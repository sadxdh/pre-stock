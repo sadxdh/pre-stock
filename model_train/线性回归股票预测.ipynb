{
 "cells": [
  {
   "cell_type": "code",
   "execution_count": 1,
   "id": "1681aaa6",
   "metadata": {},
   "outputs": [],
   "source": [
    "import pandas_datareader.data as web"
   ]
  },
  {
   "cell_type": "code",
   "execution_count": 2,
   "id": "681a6ea2",
   "metadata": {},
   "outputs": [],
   "source": [
    "import datetime\n",
    "start = datetime.datetime(2000,1,1)\n",
    "end = datetime.datetime(2022,12,1)\n",
    "df = web.DataReader('GOOGL','stooq',start,end)"
   ]
  },
  {
   "cell_type": "code",
   "execution_count": 3,
   "id": "077a49c1",
   "metadata": {},
   "outputs": [],
   "source": [
    "df.sort_index(inplace=True,ascending=True) # 排序，ascending默认为True，正序\n",
    "df.dropna(inplace=True)"
   ]
  },
  {
   "cell_type": "code",
   "execution_count": 4,
   "id": "4c8b9155",
   "metadata": {},
   "outputs": [
    {
     "name": "stdout",
     "output_type": "stream",
     "text": [
      "                 Open      High        Low      Close       Volume    label\n",
      "Date                                                                       \n",
      "2004-08-19    2.50000    2.6015    2.39900    2.50850  894076000.0  4.94000\n",
      "2004-08-20    2.52525    2.7270    2.51250    2.70775  457144000.0  4.81975\n",
      "2004-08-23    2.76875    2.8370    2.72625    2.73500  365488000.0  5.06800\n",
      "2004-08-24    2.78100    2.7900    2.58925    2.62175  305252000.0  4.86250\n",
      "2004-08-25    2.62400    2.7000    2.59700    2.65000  183956000.0  4.83775\n",
      "...               ...       ...        ...        ...          ...      ...\n",
      "2022-11-25   98.24000   98.6400   97.40000   97.46000    9701441.0      NaN\n",
      "2022-11-28   97.03630   97.5800   95.61000   96.05000   26252433.0      NaN\n",
      "2022-11-29   95.73000   96.1200   94.11000   95.19000   20061720.0      NaN\n",
      "2022-11-30   94.82000  101.0400   94.42000  100.99000   43647481.0      NaN\n",
      "2022-12-01  101.02000  102.2500  100.25000  100.99000   28687096.0      NaN\n",
      "\n",
      "[4604 rows x 6 columns]\n"
     ]
    }
   ],
   "source": [
    "predict_count = int(len(df)*0.02) # 预测数为30\n",
    "df['label'] = df['Close'].shift(-predict_count)# 构建标签列 监督学习回归\n",
    "print(df)"
   ]
  },
  {
   "cell_type": "code",
   "execution_count": 5,
   "id": "a5116f79",
   "metadata": {},
   "outputs": [],
   "source": [
    "X = df.drop(['label'],axis=1) # 设置样本数据\n",
    "y = df['label'][:-predict_count] # 设置标签数据"
   ]
  },
  {
   "cell_type": "code",
   "execution_count": 6,
   "id": "2089ddca",
   "metadata": {},
   "outputs": [
    {
     "name": "stdout",
     "output_type": "stream",
     "text": [
      "Date\n",
      "2004-08-19      4.94000\n",
      "2004-08-20      4.81975\n",
      "2004-08-23      5.06800\n",
      "2004-08-24      4.86250\n",
      "2004-08-25      4.83775\n",
      "                ...    \n",
      "2022-07-18     97.46000\n",
      "2022-07-19     96.05000\n",
      "2022-07-20     95.19000\n",
      "2022-07-21    100.99000\n",
      "2022-07-22    100.99000\n",
      "Name: label, Length: 4512, dtype: float64\n"
     ]
    }
   ],
   "source": [
    "print(y)"
   ]
  },
  {
   "cell_type": "code",
   "execution_count": 7,
   "id": "c7586091",
   "metadata": {},
   "outputs": [
    {
     "name": "stdout",
     "output_type": "stream",
     "text": [
      "                 Open      High        Low      Close       Volume\n",
      "Date                                                              \n",
      "2004-08-19    2.50000    2.6015    2.39900    2.50850  894076000.0\n",
      "2004-08-20    2.52525    2.7270    2.51250    2.70775  457144000.0\n",
      "2004-08-23    2.76875    2.8370    2.72625    2.73500  365488000.0\n",
      "2004-08-24    2.78100    2.7900    2.58925    2.62175  305252000.0\n",
      "2004-08-25    2.62400    2.7000    2.59700    2.65000  183956000.0\n",
      "...               ...       ...        ...        ...          ...\n",
      "2022-11-25   98.24000   98.6400   97.40000   97.46000    9701441.0\n",
      "2022-11-28   97.03630   97.5800   95.61000   96.05000   26252433.0\n",
      "2022-11-29   95.73000   96.1200   94.11000   95.19000   20061720.0\n",
      "2022-11-30   94.82000  101.0400   94.42000  100.99000   43647481.0\n",
      "2022-12-01  101.02000  102.2500  100.25000  100.99000   28687096.0\n",
      "\n",
      "[4604 rows x 5 columns]\n"
     ]
    }
   ],
   "source": [
    "from sklearn.preprocessing import StandardScaler\n",
    "scale = StandardScaler() # 数据标准化\n",
    "scale.fit(X)\n",
    "x = scale.transform(X)\n",
    "print(X)"
   ]
  },
  {
   "cell_type": "code",
   "execution_count": 8,
   "id": "53c7e199",
   "metadata": {},
   "outputs": [
    {
     "name": "stdout",
     "output_type": "stream",
     "text": [
      "4512\n",
      "92\n"
     ]
    }
   ],
   "source": [
    "X_lately = X[-predict_count:] # 后三十组数据\n",
    "X = X[:-predict_count]\n",
    "print(len(X))\n",
    "print(len(X_lately))\n",
    "# print(X_lately)"
   ]
  },
  {
   "cell_type": "code",
   "execution_count": 9,
   "id": "06c3d4c4",
   "metadata": {},
   "outputs": [
    {
     "name": "stdout",
     "output_type": "stream",
     "text": [
      "3609\n",
      "3609\n"
     ]
    }
   ],
   "source": [
    "from sklearn.model_selection import train_test_split\n",
    "x_train,x_test,y_train,y_test = train_test_split(X,y,test_size=0.2) # 数据集切分\n",
    "print(len(x_train))\n",
    "print(len(y_train))"
   ]
  },
  {
   "cell_type": "code",
   "execution_count": 10,
   "id": "b9a18846",
   "metadata": {},
   "outputs": [
    {
     "data": {
      "text/plain": [
       "0.9526279858464695"
      ]
     },
     "execution_count": 10,
     "metadata": {},
     "output_type": "execute_result"
    }
   ],
   "source": [
    "from sklearn.linear_model import LinearRegression\n",
    "model = LinearRegression()\n",
    "model.fit(x_train,y_train)\n",
    "model.score(x_test,y_test)"
   ]
  },
  {
   "cell_type": "code",
   "execution_count": 11,
   "id": "32be5e5a",
   "metadata": {},
   "outputs": [
    {
     "name": "stdout",
     "output_type": "stream",
     "text": [
      "92\n",
      "[108.50490153 105.82537002 111.24609452 115.66849235 118.03856189\n",
      " 118.15019221 118.37569831 120.34444732 121.54234991 120.96917509\n",
      " 119.89762116 119.51056882 123.05290522 120.47926846 124.12130364\n",
      " 125.55226945 125.07838256 123.61597766 123.28348807 119.30034122\n",
      " 117.45882005 118.42762981 117.25902694 119.2679846  109.30619543\n",
      " 112.37645849 110.10597492 109.9889342  111.29797168 108.18754436\n",
      " 109.01659032 111.65206301 111.05424808 114.07294578 113.90477556\n",
      " 104.13899551 107.75313798 104.93215622 104.61489144 106.3009453\n",
      " 103.6060197  100.67694873 103.3041189   99.92495098 101.91140145\n",
      "  98.41334002 101.12879687  97.74535349  97.88664235 100.90474966\n",
      " 105.25396614 102.50381732 105.03914839 101.12397981  99.60263236\n",
      "  99.41317086 100.73215755  97.95073953  96.32458828 103.43702015\n",
      " 100.9368249  102.38146335 103.00037379 102.29661049 103.0054516\n",
      " 107.39323504  96.43640466  92.67819055  96.41793284  96.90246293\n",
      "  88.13115038  85.99684886  83.81443984  86.38551003  90.89519022\n",
      "  90.46644432  90.12803191  95.42047458  97.70789231  98.40750006\n",
      "  99.39418196 102.04253673 101.19137617  98.39594132  97.43583688\n",
      "  96.85353655 101.94396697 101.25697577  98.61451484  97.07934994\n",
      "  98.40565339 104.08183938]\n"
     ]
    }
   ],
   "source": [
    "predict = model.predict(X_lately)\n",
    "print(len(predict))\n",
    "print(predict)"
   ]
  },
  {
   "cell_type": "code",
   "execution_count": 12,
   "id": "202288ca",
   "metadata": {},
   "outputs": [
    {
     "name": "stdout",
     "output_type": "stream",
     "text": [
      "                 Open      High        Low      Close       Volume    label  \\\n",
      "Date                                                                          \n",
      "2004-08-19    2.50000    2.6015    2.39900    2.50850  894076000.0  4.94000   \n",
      "2004-08-20    2.52525    2.7270    2.51250    2.70775  457144000.0  4.81975   \n",
      "2004-08-23    2.76875    2.8370    2.72625    2.73500  365488000.0  5.06800   \n",
      "2004-08-24    2.78100    2.7900    2.58925    2.62175  305252000.0  4.86250   \n",
      "2004-08-25    2.62400    2.7000    2.59700    2.65000  183956000.0  4.83775   \n",
      "...               ...       ...        ...        ...          ...      ...   \n",
      "2022-11-25   98.24000   98.6400   97.40000   97.46000    9701441.0      NaN   \n",
      "2022-11-28   97.03630   97.5800   95.61000   96.05000   26252433.0      NaN   \n",
      "2022-11-29   95.73000   96.1200   94.11000   95.19000   20061720.0      NaN   \n",
      "2022-11-30   94.82000  101.0400   94.42000  100.99000   43647481.0      NaN   \n",
      "2022-12-01  101.02000  102.2500  100.25000  100.99000   28687096.0      NaN   \n",
      "\n",
      "            predict  \n",
      "Date                 \n",
      "2004-08-19      NaN  \n",
      "2004-08-20      NaN  \n",
      "2004-08-23      NaN  \n",
      "2004-08-24      NaN  \n",
      "2004-08-25      NaN  \n",
      "...             ...  \n",
      "2022-11-25      NaN  \n",
      "2022-11-28      NaN  \n",
      "2022-11-29      NaN  \n",
      "2022-11-30      NaN  \n",
      "2022-12-01      NaN  \n",
      "\n",
      "[4604 rows x 7 columns]\n"
     ]
    }
   ],
   "source": [
    "import numpy as np\n",
    "df['predict'] = np.nan\n",
    "print(df)"
   ]
  },
  {
   "cell_type": "code",
   "execution_count": 13,
   "id": "6e5d7ad2",
   "metadata": {},
   "outputs": [
    {
     "name": "stdout",
     "output_type": "stream",
     "text": [
      "1669852800.0\n",
      "                     Open  High  Low  Close  Volume  label     predict\n",
      "Date                                                                  \n",
      "2023-01-23 08:00:00   NaN   NaN  NaN    NaN     NaN    NaN  105.039148\n",
      "2023-01-24 08:00:00   NaN   NaN  NaN    NaN     NaN    NaN  101.123980\n",
      "2023-01-25 08:00:00   NaN   NaN  NaN    NaN     NaN    NaN   99.602632\n",
      "2023-01-26 08:00:00   NaN   NaN  NaN    NaN     NaN    NaN   99.413171\n",
      "2023-01-27 08:00:00   NaN   NaN  NaN    NaN     NaN    NaN  100.732158\n",
      "2023-01-28 08:00:00   NaN   NaN  NaN    NaN     NaN    NaN   97.950740\n",
      "2023-01-29 08:00:00   NaN   NaN  NaN    NaN     NaN    NaN   96.324588\n",
      "2023-01-30 08:00:00   NaN   NaN  NaN    NaN     NaN    NaN  103.437020\n",
      "2023-01-31 08:00:00   NaN   NaN  NaN    NaN     NaN    NaN  100.936825\n",
      "2023-02-01 08:00:00   NaN   NaN  NaN    NaN     NaN    NaN  102.381463\n",
      "2023-02-02 08:00:00   NaN   NaN  NaN    NaN     NaN    NaN  103.000374\n",
      "2023-02-03 08:00:00   NaN   NaN  NaN    NaN     NaN    NaN  102.296610\n",
      "2023-02-04 08:00:00   NaN   NaN  NaN    NaN     NaN    NaN  103.005452\n",
      "2023-02-05 08:00:00   NaN   NaN  NaN    NaN     NaN    NaN  107.393235\n",
      "2023-02-06 08:00:00   NaN   NaN  NaN    NaN     NaN    NaN   96.436405\n",
      "2023-02-07 08:00:00   NaN   NaN  NaN    NaN     NaN    NaN   92.678191\n",
      "2023-02-08 08:00:00   NaN   NaN  NaN    NaN     NaN    NaN   96.417933\n",
      "2023-02-09 08:00:00   NaN   NaN  NaN    NaN     NaN    NaN   96.902463\n",
      "2023-02-10 08:00:00   NaN   NaN  NaN    NaN     NaN    NaN   88.131150\n",
      "2023-02-11 08:00:00   NaN   NaN  NaN    NaN     NaN    NaN   85.996849\n",
      "2023-02-12 08:00:00   NaN   NaN  NaN    NaN     NaN    NaN   83.814440\n",
      "2023-02-13 08:00:00   NaN   NaN  NaN    NaN     NaN    NaN   86.385510\n",
      "2023-02-14 08:00:00   NaN   NaN  NaN    NaN     NaN    NaN   90.895190\n",
      "2023-02-15 08:00:00   NaN   NaN  NaN    NaN     NaN    NaN   90.466444\n",
      "2023-02-16 08:00:00   NaN   NaN  NaN    NaN     NaN    NaN   90.128032\n",
      "2023-02-17 08:00:00   NaN   NaN  NaN    NaN     NaN    NaN   95.420475\n",
      "2023-02-18 08:00:00   NaN   NaN  NaN    NaN     NaN    NaN   97.707892\n",
      "2023-02-19 08:00:00   NaN   NaN  NaN    NaN     NaN    NaN   98.407500\n",
      "2023-02-20 08:00:00   NaN   NaN  NaN    NaN     NaN    NaN   99.394182\n",
      "2023-02-21 08:00:00   NaN   NaN  NaN    NaN     NaN    NaN  102.042537\n",
      "2023-02-22 08:00:00   NaN   NaN  NaN    NaN     NaN    NaN  101.191376\n",
      "2023-02-23 08:00:00   NaN   NaN  NaN    NaN     NaN    NaN   98.395941\n",
      "2023-02-24 08:00:00   NaN   NaN  NaN    NaN     NaN    NaN   97.435837\n",
      "2023-02-25 08:00:00   NaN   NaN  NaN    NaN     NaN    NaN   96.853537\n",
      "2023-02-26 08:00:00   NaN   NaN  NaN    NaN     NaN    NaN  101.943967\n",
      "2023-02-27 08:00:00   NaN   NaN  NaN    NaN     NaN    NaN  101.256976\n",
      "2023-02-28 08:00:00   NaN   NaN  NaN    NaN     NaN    NaN   98.614515\n",
      "2023-03-01 08:00:00   NaN   NaN  NaN    NaN     NaN    NaN   97.079350\n",
      "2023-03-02 08:00:00   NaN   NaN  NaN    NaN     NaN    NaN   98.405653\n",
      "2023-03-03 08:00:00   NaN   NaN  NaN    NaN     NaN    NaN  104.081839\n"
     ]
    }
   ],
   "source": [
    "import datetime\n",
    "\n",
    "# print(df.index[-1])\n",
    "last_date_st = df.index[-1].timestamp()\n",
    "next_date_st = last_date_st + 86400\n",
    "next_date = datetime.datetime.fromtimestamp(next_date_st)\n",
    "print(last_date_st)\n",
    "\n",
    "for i in predict:\n",
    "    next_date = datetime.datetime.fromtimestamp(next_date_st)\n",
    "    df.loc[next_date] = [np.nan for _ in range(len(df.columns)-1)] + [i]\n",
    "    next_date_st += 86400\n",
    "    \n",
    "print(df.tail(40))"
   ]
  },
  {
   "cell_type": "code",
   "execution_count": 14,
   "id": "b69cd90c",
   "metadata": {},
   "outputs": [
    {
     "data": {
      "image/png": "[encoded data removed]",
      "text/plain": [
       "<Figure size 432x288 with 1 Axes>"
      ]
     },
     "metadata": {},
     "output_type": "display_data"
    }
   ],
   "source": [
    "import matplotlib.pyplot as plt\n",
    "import matplotlib.style as style\n",
    "style.use('ggplot')\n",
    "df['Close'].plot()\n",
    "df['predict'].plot()\n",
    "plt.show()"
   ]
  },
  {
   "cell_type": "code",
   "execution_count": null,
   "id": "05486dd3",
   "metadata": {},
   "outputs": [],
   "source": []
  }
 ],
 "metadata": {
  "kernelspec": {
   "display_name": "Python 3 (ipykernel)",
   "language": "python",
   "name": "python3"
  },
  "language_info": {
   "codemirror_mode": {
    "name": "ipython",
    "version": 3
   },
   "file_extension": ".py",
   "mimetype": "text/x-python",
   "name": "python",
   "nbconvert_exporter": "python",
   "pygments_lexer": "ipython3",
   "version": "3.9.12"
  },
  "toc": {
   "base_numbering": 1,
   "nav_menu": {},
   "number_sections": true,
   "sideBar": true,
   "skip_h1_title": false,
   "title_cell": "Table of Contents",
   "title_sidebar": "Contents",
   "toc_cell": false,
   "toc_position": {},
   "toc_section_display": true,
   "toc_window_display": false
  }
 },
 "nbformat": 4,
 "nbformat_minor": 5
}
