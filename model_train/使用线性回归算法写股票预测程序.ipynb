{
 "cells": [
  {
   "cell_type": "code",
   "execution_count": 1,
   "id": "1681aaa6",
   "metadata": {},
   "outputs": [],
   "source": [
    "import pandas_datareader.data as web"
   ]
  },
  {
   "cell_type": "code",
   "execution_count": 2,
   "id": "681a6ea2",
   "metadata": {},
   "outputs": [],
   "source": [
    "import datetime\n",
    "start = datetime.datetime(2000,1,1)\n",
    "end = datetime.datetime(2022,12,1)\n",
    "df = web.DataReader('GOOGL','stooq',start,end)"
   ]
  },
  {
   "cell_type": "code",
   "execution_count": 3,
   "id": "077a49c1",
   "metadata": {},
   "outputs": [],
   "source": [
    "df.sort_index(inplace=True,ascending=True) # 排序，ascending默认为True，正序\n",
    "df.dropna(inplace=True)"
   ]
  },
  {
   "cell_type": "code",
   "execution_count": 4,
   "id": "4c8b9155",
   "metadata": {},
   "outputs": [
    {
     "name": "stdout",
     "output_type": "stream",
     "text": [
      "                 Open      High        Low      Close       Volume    label\n",
      "Date                                                                       \n",
      "2004-08-19    2.50000    2.6015    2.39900    2.50850  894076000.0  4.94000\n",
      "2004-08-20    2.52525    2.7270    2.51250    2.70775  457144000.0  4.81975\n",
      "2004-08-23    2.76875    2.8370    2.72625    2.73500  365488000.0  5.06800\n",
      "2004-08-24    2.78100    2.7900    2.58925    2.62175  305252000.0  4.86250\n",
      "2004-08-25    2.62400    2.7000    2.59700    2.65000  183956000.0  4.83775\n",
      "...               ...       ...        ...        ...          ...      ...\n",
      "2022-11-25   98.24000   98.6400   97.40000   97.46000    9701441.0      NaN\n",
      "2022-11-28   97.03630   97.5800   95.61000   96.05000   26252433.0      NaN\n",
      "2022-11-29   95.73000   96.1200   94.11000   95.19000   20061720.0      NaN\n",
      "2022-11-30   94.82000  101.0400   94.42000  100.99000   43647481.0      NaN\n",
      "2022-12-01  101.02000  102.2500  100.25000  100.99000   28687096.0      NaN\n",
      "\n",
      "[4604 rows x 6 columns]\n"
     ]
    }
   ],
   "source": [
    "predict_count = int(len(df)*0.02) # 预测数为30\n",
    "df['label'] = df['Close'].shift(-predict_count)# 构建标签列 监督学习回归\n",
    "print(df)"
   ]
  },
  {
   "cell_type": "code",
   "execution_count": 5,
   "id": "a5116f79",
   "metadata": {},
   "outputs": [],
   "source": [
    "X = df.drop(['label'],axis=1) # 设置样本数据\n",
    "y = df['label'][:-predict_count] # 设置标签数据"
   ]
  },
  {
   "cell_type": "code",
   "execution_count": 6,
   "id": "2089ddca",
   "metadata": {},
   "outputs": [
    {
     "name": "stdout",
     "output_type": "stream",
     "text": [
      "Date\n",
      "2004-08-19      4.94000\n",
      "2004-08-20      4.81975\n",
      "2004-08-23      5.06800\n",
      "2004-08-24      4.86250\n",
      "2004-08-25      4.83775\n",
      "                ...    \n",
      "2022-07-18     97.46000\n",
      "2022-07-19     96.05000\n",
      "2022-07-20     95.19000\n",
      "2022-07-21    100.99000\n",
      "2022-07-22    100.99000\n",
      "Name: label, Length: 4512, dtype: float64\n"
     ]
    }
   ],
   "source": [
    "print(y)"
   ]
  },
  {
   "cell_type": "code",
   "execution_count": 7,
   "id": "c7586091",
   "metadata": {},
   "outputs": [
    {
     "name": "stdout",
     "output_type": "stream",
     "text": [
      "                 Open      High        Low      Close       Volume\n",
      "Date                                                              \n",
      "2004-08-19    2.50000    2.6015    2.39900    2.50850  894076000.0\n",
      "2004-08-20    2.52525    2.7270    2.51250    2.70775  457144000.0\n",
      "2004-08-23    2.76875    2.8370    2.72625    2.73500  365488000.0\n",
      "2004-08-24    2.78100    2.7900    2.58925    2.62175  305252000.0\n",
      "2004-08-25    2.62400    2.7000    2.59700    2.65000  183956000.0\n",
      "...               ...       ...        ...        ...          ...\n",
      "2022-11-25   98.24000   98.6400   97.40000   97.46000    9701441.0\n",
      "2022-11-28   97.03630   97.5800   95.61000   96.05000   26252433.0\n",
      "2022-11-29   95.73000   96.1200   94.11000   95.19000   20061720.0\n",
      "2022-11-30   94.82000  101.0400   94.42000  100.99000   43647481.0\n",
      "2022-12-01  101.02000  102.2500  100.25000  100.99000   28687096.0\n",
      "\n",
      "[4604 rows x 5 columns]\n"
     ]
    }
   ],
   "source": [
    "from sklearn.preprocessing import StandardScaler\n",
    "scale = StandardScaler() # 数据标准化\n",
    "scale.fit(X)\n",
    "x = scale.transform(X)\n",
    "print(X)"
   ]
  },
  {
   "cell_type": "code",
   "execution_count": 8,
   "id": "53c7e199",
   "metadata": {},
   "outputs": [
    {
     "name": "stdout",
     "output_type": "stream",
     "text": [
      "4512\n",
      "92\n"
     ]
    }
   ],
   "source": [
    "X_lately = X[-predict_count:] # 后三十组数据\n",
    "X = X[:-predict_count]\n",
    "print(len(X))\n",
    "print(len(X_lately))\n",
    "# print(X_lately)"
   ]
  },
  {
   "cell_type": "code",
   "execution_count": 9,
   "id": "06c3d4c4",
   "metadata": {},
   "outputs": [
    {
     "name": "stdout",
     "output_type": "stream",
     "text": [
      "3609\n",
      "3609\n"
     ]
    }
   ],
   "source": [
    "from sklearn.model_selection import train_test_split\n",
    "x_train,x_test,y_train,y_test = train_test_split(X,y,test_size=0.2) # 数据集切分\n",
    "print(len(x_train))\n",
    "print(len(y_train))"
   ]
  },
  {
   "cell_type": "code",
   "execution_count": 10,
   "id": "b9a18846",
   "metadata": {},
   "outputs": [
    {
     "data": {
      "text/plain": [
       "0.9526279858464695"
      ]
     },
     "execution_count": 10,
     "metadata": {},
     "output_type": "execute_result"
    }
   ],
   "source": [
    "from sklearn.linear_model import LinearRegression\n",
    "model = LinearRegression()\n",
    "model.fit(x_train,y_train)\n",
    "model.score(x_test,y_test)"
   ]
  },
  {
   "cell_type": "code",
   "execution_count": 11,
   "id": "32be5e5a",
   "metadata": {},
   "outputs": [
    {
     "name": "stdout",
     "output_type": "stream",
     "text": [
      "92\n",
      "[108.50490153 105.82537002 111.24609452 115.66849235 118.03856189\n",
      " 118.15019221 118.37569831 120.34444732 121.54234991 120.96917509\n",
      " 119.89762116 119.51056882 123.05290522 120.47926846 124.12130364\n",
      " 125.55226945 125.07838256 123.61597766 123.28348807 119.30034122\n",
      " 117.45882005 118.42762981 117.25902694 119.2679846  109.30619543\n",
      " 112.37645849 110.10597492 109.9889342  111.29797168 108.18754436\n",
      " 109.01659032 111.65206301 111.05424808 114.07294578 113.90477556\n",
      " 104.13899551 107.75313798 104.93215622 104.61489144 106.3009453\n",
      " 103.6060197  100.67694873 103.3041189   99.92495098 101.91140145\n",
      "  98.41334002 101.12879687  97.74535349  97.88664235 100.90474966\n",
      " 105.25396614 102.50381732 105.03914839 101.12397981  99.60263236\n",
      "  99.41317086 100.73215755  97.95073953  96.32458828 103.43702015\n",
      " 100.9368249  102.38146335 103.00037379 102.29661049 103.0054516\n",
      " 107.39323504  96.43640466  92.67819055  96.41793284  96.90246293\n",
      "  88.13115038  85.99684886  83.81443984  86.38551003  90.89519022\n",
      "  90.46644432  90.12803191  95.42047458  97.70789231  98.40750006\n",
      "  99.39418196 102.04253673 101.19137617  98.39594132  97.43583688\n",
      "  96.85353655 101.94396697 101.25697577  98.61451484  97.07934994\n",
      "  98.40565339 104.08183938]\n"
     ]
    }
   ],
   "source": [
    "predict = model.predict(X_lately)\n",
    "print(len(predict))\n",
    "print(predict)"
   ]
  },
  {
   "cell_type": "code",
   "execution_count": 12,
   "id": "202288ca",
   "metadata": {},
   "outputs": [
    {
     "name": "stdout",
     "output_type": "stream",
     "text": [
      "                 Open      High        Low      Close       Volume    label  \\\n",
      "Date                                                                          \n",
      "2004-08-19    2.50000    2.6015    2.39900    2.50850  894076000.0  4.94000   \n",
      "2004-08-20    2.52525    2.7270    2.51250    2.70775  457144000.0  4.81975   \n",
      "2004-08-23    2.76875    2.8370    2.72625    2.73500  365488000.0  5.06800   \n",
      "2004-08-24    2.78100    2.7900    2.58925    2.62175  305252000.0  4.86250   \n",
      "2004-08-25    2.62400    2.7000    2.59700    2.65000  183956000.0  4.83775   \n",
      "...               ...       ...        ...        ...          ...      ...   \n",
      "2022-11-25   98.24000   98.6400   97.40000   97.46000    9701441.0      NaN   \n",
      "2022-11-28   97.03630   97.5800   95.61000   96.05000   26252433.0      NaN   \n",
      "2022-11-29   95.73000   96.1200   94.11000   95.19000   20061720.0      NaN   \n",
      "2022-11-30   94.82000  101.0400   94.42000  100.99000   43647481.0      NaN   \n",
      "2022-12-01  101.02000  102.2500  100.25000  100.99000   28687096.0      NaN   \n",
      "\n",
      "            predict  \n",
      "Date                 \n",
      "2004-08-19      NaN  \n",
      "2004-08-20      NaN  \n",
      "2004-08-23      NaN  \n",
      "2004-08-24      NaN  \n",
      "2004-08-25      NaN  \n",
      "...             ...  \n",
      "2022-11-25      NaN  \n",
      "2022-11-28      NaN  \n",
      "2022-11-29      NaN  \n",
      "2022-11-30      NaN  \n",
      "2022-12-01      NaN  \n",
      "\n",
      "[4604 rows x 7 columns]\n"
     ]
    }
   ],
   "source": [
    "import numpy as np\n",
    "df['predict'] = np.nan\n",
    "print(df)"
   ]
  },
  {
   "cell_type": "code",
   "execution_count": 13,
   "id": "6e5d7ad2",
   "metadata": {},
   "outputs": [
    {
     "name": "stdout",
     "output_type": "stream",
     "text": [
      "1669852800.0\n",
      "                     Open  High  Low  Close  Volume  label     predict\n",
      "Date                                                                  \n",
      "2023-01-23 08:00:00   NaN   NaN  NaN    NaN     NaN    NaN  105.039148\n",
      "2023-01-24 08:00:00   NaN   NaN  NaN    NaN     NaN    NaN  101.123980\n",
      "2023-01-25 08:00:00   NaN   NaN  NaN    NaN     NaN    NaN   99.602632\n",
      "2023-01-26 08:00:00   NaN   NaN  NaN    NaN     NaN    NaN   99.413171\n",
      "2023-01-27 08:00:00   NaN   NaN  NaN    NaN     NaN    NaN  100.732158\n",
      "2023-01-28 08:00:00   NaN   NaN  NaN    NaN     NaN    NaN   97.950740\n",
      "2023-01-29 08:00:00   NaN   NaN  NaN    NaN     NaN    NaN   96.324588\n",
      "2023-01-30 08:00:00   NaN   NaN  NaN    NaN     NaN    NaN  103.437020\n",
      "2023-01-31 08:00:00   NaN   NaN  NaN    NaN     NaN    NaN  100.936825\n",
      "2023-02-01 08:00:00   NaN   NaN  NaN    NaN     NaN    NaN  102.381463\n",
      "2023-02-02 08:00:00   NaN   NaN  NaN    NaN     NaN    NaN  103.000374\n",
      "2023-02-03 08:00:00   NaN   NaN  NaN    NaN     NaN    NaN  102.296610\n",
      "2023-02-04 08:00:00   NaN   NaN  NaN    NaN     NaN    NaN  103.005452\n",
      "2023-02-05 08:00:00   NaN   NaN  NaN    NaN     NaN    NaN  107.393235\n",
      "2023-02-06 08:00:00   NaN   NaN  NaN    NaN     NaN    NaN   96.436405\n",
      "2023-02-07 08:00:00   NaN   NaN  NaN    NaN     NaN    NaN   92.678191\n",
      "2023-02-08 08:00:00   NaN   NaN  NaN    NaN     NaN    NaN   96.417933\n",
      "2023-02-09 08:00:00   NaN   NaN  NaN    NaN     NaN    NaN   96.902463\n",
      "2023-02-10 08:00:00   NaN   NaN  NaN    NaN     NaN    NaN   88.131150\n",
      "2023-02-11 08:00:00   NaN   NaN  NaN    NaN     NaN    NaN   85.996849\n",
      "2023-02-12 08:00:00   NaN   NaN  NaN    NaN     NaN    NaN   83.814440\n",
      "2023-02-13 08:00:00   NaN   NaN  NaN    NaN     NaN    NaN   86.385510\n",
      "2023-02-14 08:00:00   NaN   NaN  NaN    NaN     NaN    NaN   90.895190\n",
      "2023-02-15 08:00:00   NaN   NaN  NaN    NaN     NaN    NaN   90.466444\n",
      "2023-02-16 08:00:00   NaN   NaN  NaN    NaN     NaN    NaN   90.128032\n",
      "2023-02-17 08:00:00   NaN   NaN  NaN    NaN     NaN    NaN   95.420475\n",
      "2023-02-18 08:00:00   NaN   NaN  NaN    NaN     NaN    NaN   97.707892\n",
      "2023-02-19 08:00:00   NaN   NaN  NaN    NaN     NaN    NaN   98.407500\n",
      "2023-02-20 08:00:00   NaN   NaN  NaN    NaN     NaN    NaN   99.394182\n",
      "2023-02-21 08:00:00   NaN   NaN  NaN    NaN     NaN    NaN  102.042537\n",
      "2023-02-22 08:00:00   NaN   NaN  NaN    NaN     NaN    NaN  101.191376\n",
      "2023-02-23 08:00:00   NaN   NaN  NaN    NaN     NaN    NaN   98.395941\n",
      "2023-02-24 08:00:00   NaN   NaN  NaN    NaN     NaN    NaN   97.435837\n",
      "2023-02-25 08:00:00   NaN   NaN  NaN    NaN     NaN    NaN   96.853537\n",
      "2023-02-26 08:00:00   NaN   NaN  NaN    NaN     NaN    NaN  101.943967\n",
      "2023-02-27 08:00:00   NaN   NaN  NaN    NaN     NaN    NaN  101.256976\n",
      "2023-02-28 08:00:00   NaN   NaN  NaN    NaN     NaN    NaN   98.614515\n",
      "2023-03-01 08:00:00   NaN   NaN  NaN    NaN     NaN    NaN   97.079350\n",
      "2023-03-02 08:00:00   NaN   NaN  NaN    NaN     NaN    NaN   98.405653\n",
      "2023-03-03 08:00:00   NaN   NaN  NaN    NaN     NaN    NaN  104.081839\n"
     ]
    }
   ],
   "source": [
    "import datetime\n",
    "\n",
    "# print(df.index[-1])\n",
    "last_date_st = df.index[-1].timestamp()\n",
    "next_date_st = last_date_st + 86400\n",
    "next_date = datetime.datetime.fromtimestamp(next_date_st)\n",
    "print(last_date_st)\n",
    "\n",
    "for i in predict:\n",
    "    next_date = datetime.datetime.fromtimestamp(next_date_st)\n",
    "    df.loc[next_date] = [np.nan for _ in range(len(df.columns)-1)] + [i]\n",
    "    next_date_st += 86400\n",
    "    \n",
    "print(df.tail(40))"
   ]
  },
  {
   "cell_type": "code",
   "execution_count": 14,
   "id": "b69cd90c",
   "metadata": {},
   "outputs": [
    {
     "data": {
      "image/png": "[encoded data removed]",
      "text/plain": [
       "<Figure size 432x288 with 1 Axes>"
      ]
     },
     "metadata": {},
     "output_type": "display_data"
    }
   ],
   "source": [
    "import matplotlib.pyplot as plt\n",
    "import matplotlib.style as style\n",
    "style.use('ggplot')\n",
    "df['Close'].plot()\n",
    "df['predict'].plot()\n",
    "plt.show()"
   ]
  },
  {
   "cell_type": "code",
   "execution_count": null,
   "id": "05486dd3",
   "metadata": {},
   "outputs": [],
   "source": []
  },
  {
   "cell_type": "code",
   "execution_count": null,
   "id": "b50c67bc",
   "metadata": {},
   "outputs": [],
   "source": []
  },
  {
   "cell_type": "code",
   "execution_count": null,
   "id": "4a0a01ce",
   "metadata": {},
   "outputs": [],
   "source": []
  },
  {
   "cell_type": "code",
   "execution_count": null,
   "id": "2f858dbf",
   "metadata": {},
   "outputs": [],
   "source": []
  },
  {
   "cell_type": "code",
   "execution_count": 2,
   "id": "73a9bb83",
   "metadata": {
    "scrolled": false
   },
   "outputs": [
    {
     "name": "stdout",
     "output_type": "stream",
     "text": [
      "              open   close    high     low     volume  code     5日均线    10日均线  \\\n",
      "date                                                                            \n",
      "2010-07-20  -1.678  -1.500  -1.491  -1.678   10751.82  2415  -1.5992  -1.5370   \n",
      "2010-07-21  -1.500  -1.456  -1.389  -1.528   13002.42  2415  -1.5844  -1.5313   \n",
      "2010-07-22  -1.486  -1.441  -1.440  -1.522    6230.32  2415  -1.5522  -1.5256   \n",
      "2010-07-23  -1.422  -1.466  -1.369  -1.494    8561.08  2415  -1.5048  -1.5324   \n",
      "2010-07-26  -1.452  -1.413  -1.406  -1.481   15349.83  2415  -1.4552  -1.5320   \n",
      "...            ...     ...     ...     ...        ...   ...      ...      ...   \n",
      "2023-05-31  35.170  34.860  35.480  34.600  257120.00  2415  34.8820  35.3420   \n",
      "2023-06-01  34.890  35.900  36.400  34.440  507622.00  2415  35.0720  35.4490   \n",
      "2023-06-02  35.900  35.910  36.080  35.480  296013.00  2415  35.1660  35.4780   \n",
      "2023-06-05  35.920  36.000  36.580  35.610  341780.00  2415  35.5660  35.4900   \n",
      "2023-06-06  36.000  34.900  36.180  34.890  311117.00  2415  35.5140  35.3120   \n",
      "\n",
      "                  涨幅        跌幅        RSI      MACD  MACD_Signal  \\\n",
      "date                                                               \n",
      "2010-07-20 -0.031008  0.031008  43.215221 -0.223771    -0.263686   \n",
      "2010-07-21 -0.048366  0.048366  45.402622 -0.201977    -0.251344   \n",
      "2010-07-22 -0.100499  0.100499  46.163986 -0.181404    -0.237356   \n",
      "2010-07-23 -0.139166  0.139166  45.036734 -0.165212    -0.222927   \n",
      "2010-07-26 -0.149308  0.149308  47.939086 -0.146415    -0.207625   \n",
      "...              ...       ...        ...       ...          ...   \n",
      "2023-05-31 -0.031667  0.031667  41.617989 -1.021249    -1.175628   \n",
      "2023-06-01  0.027182 -0.027182  47.594390 -0.897751    -1.120053   \n",
      "2023-06-02  0.013262 -0.013262  47.649882 -0.789964    -1.054035   \n",
      "2023-06-05  0.058824 -0.058824  48.181699 -0.689334    -0.981095   \n",
      "2023-06-06 -0.007395  0.007395  42.498959 -0.690387    -0.922953   \n",
      "\n",
      "            MACD_Histogram  mixumum  minumum  label  \n",
      "date                                                 \n",
      "2010-07-20        0.039915    False    False -1.284  \n",
      "2010-07-21        0.049367    False    False -1.233  \n",
      "2010-07-22        0.055953    False    False -1.307  \n",
      "2010-07-23        0.057716    False    False -0.903  \n",
      "2010-07-26        0.061210    False    False -0.694  \n",
      "...                    ...      ...      ...    ...  \n",
      "2023-05-31        0.154379    False    False    NaN  \n",
      "2023-06-01        0.222302    False    False    NaN  \n",
      "2023-06-02        0.264071    False    False    NaN  \n",
      "2023-06-05        0.291761    False    False    NaN  \n",
      "2023-06-06        0.232567    False    False    NaN  \n",
      "\n",
      "[3077 rows x 17 columns]\n",
      "0.9146067080189704\n",
      "[39.30970235 38.71189775 39.49053311 37.43510824 39.72332919 40.2922963\n",
      " 39.37297389 42.09594396 44.47205211 41.93963123 44.19084367 45.3577109\n",
      " 45.7212337  43.79455261 43.45730561 42.22372193 42.84313414 42.13300116\n",
      " 42.63389225 43.98987416 45.52598065 45.59253754 43.88768177 44.62459498\n",
      " 45.37172661 46.07879832 44.7720328  43.88580949 43.50340879 43.88587184\n",
      " 43.9530005  40.86981884 39.47869393 39.05163185 40.48902404 38.7586861\n",
      " 39.36232391 37.99943759 36.61660202 38.08862668 36.2590669  35.33009308\n",
      " 36.04545023 34.05155069 34.40565441 34.11484349 35.01679601 33.60781466\n",
      " 34.30209606 34.44270763 34.38225469 34.51633292 32.22886264 33.29236764\n",
      " 32.77090424 32.71198984 32.63363015 33.30703983 34.56659959 34.4992738\n",
      " 32.48725153]\n",
      "              open   close    high     low     volume  code     5日均线    10日均线  \\\n",
      "date                                                                            \n",
      "2010-07-20  -1.678  -1.500  -1.491  -1.678   10751.82  2415  -1.5992  -1.5370   \n",
      "2010-07-21  -1.500  -1.456  -1.389  -1.528   13002.42  2415  -1.5844  -1.5313   \n",
      "2010-07-22  -1.486  -1.441  -1.440  -1.522    6230.32  2415  -1.5522  -1.5256   \n",
      "2010-07-23  -1.422  -1.466  -1.369  -1.494    8561.08  2415  -1.5048  -1.5324   \n",
      "2010-07-26  -1.452  -1.413  -1.406  -1.481   15349.83  2415  -1.4552  -1.5320   \n",
      "...            ...     ...     ...     ...        ...   ...      ...      ...   \n",
      "2023-05-31  35.170  34.860  35.480  34.600  257120.00  2415  34.8820  35.3420   \n",
      "2023-06-01  34.890  35.900  36.400  34.440  507622.00  2415  35.0720  35.4490   \n",
      "2023-06-02  35.900  35.910  36.080  35.480  296013.00  2415  35.1660  35.4780   \n",
      "2023-06-05  35.920  36.000  36.580  35.610  341780.00  2415  35.5660  35.4900   \n",
      "2023-06-06  36.000  34.900  36.180  34.890  311117.00  2415  35.5140  35.3120   \n",
      "\n",
      "                  涨幅        跌幅        RSI      MACD  MACD_Signal  \\\n",
      "date                                                               \n",
      "2010-07-20 -0.031008  0.031008  43.215221 -0.223771    -0.263686   \n",
      "2010-07-21 -0.048366  0.048366  45.402622 -0.201977    -0.251344   \n",
      "2010-07-22 -0.100499  0.100499  46.163986 -0.181404    -0.237356   \n",
      "2010-07-23 -0.139166  0.139166  45.036734 -0.165212    -0.222927   \n",
      "2010-07-26 -0.149308  0.149308  47.939086 -0.146415    -0.207625   \n",
      "...              ...       ...        ...       ...          ...   \n",
      "2023-05-31 -0.031667  0.031667  41.617989 -1.021249    -1.175628   \n",
      "2023-06-01  0.027182 -0.027182  47.594390 -0.897751    -1.120053   \n",
      "2023-06-02  0.013262 -0.013262  47.649882 -0.789964    -1.054035   \n",
      "2023-06-05  0.058824 -0.058824  48.181699 -0.689334    -0.981095   \n",
      "2023-06-06 -0.007395  0.007395  42.498959 -0.690387    -0.922953   \n",
      "\n",
      "            MACD_Histogram  mixumum  minumum  label  predict  \n",
      "date                                                          \n",
      "2010-07-20        0.039915    False    False -1.284      NaN  \n",
      "2010-07-21        0.049367    False    False -1.233      NaN  \n",
      "2010-07-22        0.055953    False    False -1.307      NaN  \n",
      "2010-07-23        0.057716    False    False -0.903      NaN  \n",
      "2010-07-26        0.061210    False    False -0.694      NaN  \n",
      "...                    ...      ...      ...    ...      ...  \n",
      "2023-05-31        0.154379    False    False    NaN      NaN  \n",
      "2023-06-01        0.222302    False    False    NaN      NaN  \n",
      "2023-06-02        0.264071    False    False    NaN      NaN  \n",
      "2023-06-05        0.291761    False    False    NaN      NaN  \n",
      "2023-06-06        0.232567    False    False    NaN      NaN  \n",
      "\n",
      "[3077 rows x 18 columns]\n"
     ]
    },
    {
     "name": "stderr",
     "output_type": "stream",
     "text": [
      "C:\\Users\\Administrator\\AppData\\Local\\Temp\\ipykernel_8492\\923279303.py:54: FutureWarning: Behavior when concatenating bool-dtype and numeric-dtype arrays is deprecated; in a future version these will cast to object dtype (instead of coercing bools to numeric values). To retain the old behavior, explicitly cast bool-dtype arrays to numeric dtype.\n",
      "  df.loc[next_date] = [np.nan for _ in range(len(df.columns) - 1)] + [i]\n"
     ]
    },
    {
     "name": "stdout",
     "output_type": "stream",
     "text": [
      "                     open  close  high  low  volume  code  5日均线  10日均线  涨幅  \\\n",
      "date                                                                         \n",
      "2023-06-28 00:00:00   NaN    NaN   NaN  NaN     NaN   NaN   NaN    NaN NaN   \n",
      "2023-06-29 00:00:00   NaN    NaN   NaN  NaN     NaN   NaN   NaN    NaN NaN   \n",
      "2023-06-30 00:00:00   NaN    NaN   NaN  NaN     NaN   NaN   NaN    NaN NaN   \n",
      "2023-07-01 00:00:00   NaN    NaN   NaN  NaN     NaN   NaN   NaN    NaN NaN   \n",
      "2023-07-02 00:00:00   NaN    NaN   NaN  NaN     NaN   NaN   NaN    NaN NaN   \n",
      "2023-07-03 00:00:00   NaN    NaN   NaN  NaN     NaN   NaN   NaN    NaN NaN   \n",
      "2023-07-04 00:00:00   NaN    NaN   NaN  NaN     NaN   NaN   NaN    NaN NaN   \n",
      "2023-07-05 00:00:00   NaN    NaN   NaN  NaN     NaN   NaN   NaN    NaN NaN   \n",
      "2023-07-06 00:00:00   NaN    NaN   NaN  NaN     NaN   NaN   NaN    NaN NaN   \n",
      "2023-07-07 00:00:00   NaN    NaN   NaN  NaN     NaN   NaN   NaN    NaN NaN   \n",
      "2023-07-08 00:00:00   NaN    NaN   NaN  NaN     NaN   NaN   NaN    NaN NaN   \n",
      "2023-07-09 00:00:00   NaN    NaN   NaN  NaN     NaN   NaN   NaN    NaN NaN   \n",
      "2023-07-10 00:00:00   NaN    NaN   NaN  NaN     NaN   NaN   NaN    NaN NaN   \n",
      "2023-07-11 00:00:00   NaN    NaN   NaN  NaN     NaN   NaN   NaN    NaN NaN   \n",
      "2023-07-12 00:00:00   NaN    NaN   NaN  NaN     NaN   NaN   NaN    NaN NaN   \n",
      "2023-07-13 00:00:00   NaN    NaN   NaN  NaN     NaN   NaN   NaN    NaN NaN   \n",
      "2023-07-14 00:00:00   NaN    NaN   NaN  NaN     NaN   NaN   NaN    NaN NaN   \n",
      "2023-07-15 00:00:00   NaN    NaN   NaN  NaN     NaN   NaN   NaN    NaN NaN   \n",
      "2023-07-16 00:00:00   NaN    NaN   NaN  NaN     NaN   NaN   NaN    NaN NaN   \n",
      "2023-07-17 00:00:00   NaN    NaN   NaN  NaN     NaN   NaN   NaN    NaN NaN   \n",
      "2023-07-18 00:00:00   NaN    NaN   NaN  NaN     NaN   NaN   NaN    NaN NaN   \n",
      "2023-07-19 00:00:00   NaN    NaN   NaN  NaN     NaN   NaN   NaN    NaN NaN   \n",
      "2023-07-20 00:00:00   NaN    NaN   NaN  NaN     NaN   NaN   NaN    NaN NaN   \n",
      "2023-07-21 00:00:00   NaN    NaN   NaN  NaN     NaN   NaN   NaN    NaN NaN   \n",
      "2023-07-22 00:00:00   NaN    NaN   NaN  NaN     NaN   NaN   NaN    NaN NaN   \n",
      "2023-07-23 00:00:00   NaN    NaN   NaN  NaN     NaN   NaN   NaN    NaN NaN   \n",
      "2023-07-24 00:00:00   NaN    NaN   NaN  NaN     NaN   NaN   NaN    NaN NaN   \n",
      "2023-07-25 00:00:00   NaN    NaN   NaN  NaN     NaN   NaN   NaN    NaN NaN   \n",
      "2023-07-26 00:00:00   NaN    NaN   NaN  NaN     NaN   NaN   NaN    NaN NaN   \n",
      "2023-07-27 00:00:00   NaN    NaN   NaN  NaN     NaN   NaN   NaN    NaN NaN   \n",
      "2023-07-28 00:00:00   NaN    NaN   NaN  NaN     NaN   NaN   NaN    NaN NaN   \n",
      "2023-07-29 00:00:00   NaN    NaN   NaN  NaN     NaN   NaN   NaN    NaN NaN   \n",
      "2023-07-30 00:00:00   NaN    NaN   NaN  NaN     NaN   NaN   NaN    NaN NaN   \n",
      "2023-07-31 00:00:00   NaN    NaN   NaN  NaN     NaN   NaN   NaN    NaN NaN   \n",
      "2023-08-01 00:00:00   NaN    NaN   NaN  NaN     NaN   NaN   NaN    NaN NaN   \n",
      "2023-08-02 00:00:00   NaN    NaN   NaN  NaN     NaN   NaN   NaN    NaN NaN   \n",
      "2023-08-03 00:00:00   NaN    NaN   NaN  NaN     NaN   NaN   NaN    NaN NaN   \n",
      "2023-08-04 00:00:00   NaN    NaN   NaN  NaN     NaN   NaN   NaN    NaN NaN   \n",
      "2023-08-05 00:00:00   NaN    NaN   NaN  NaN     NaN   NaN   NaN    NaN NaN   \n",
      "2023-08-06 00:00:00   NaN    NaN   NaN  NaN     NaN   NaN   NaN    NaN NaN   \n",
      "\n",
      "                     跌幅  RSI  MACD  MACD_Signal  MACD_Histogram  mixumum  \\\n",
      "date                                                                       \n",
      "2023-06-28 00:00:00 NaN  NaN   NaN          NaN             NaN      NaN   \n",
      "2023-06-29 00:00:00 NaN  NaN   NaN          NaN             NaN      NaN   \n",
      "2023-06-30 00:00:00 NaN  NaN   NaN          NaN             NaN      NaN   \n",
      "2023-07-01 00:00:00 NaN  NaN   NaN          NaN             NaN      NaN   \n",
      "2023-07-02 00:00:00 NaN  NaN   NaN          NaN             NaN      NaN   \n",
      "2023-07-03 00:00:00 NaN  NaN   NaN          NaN             NaN      NaN   \n",
      "2023-07-04 00:00:00 NaN  NaN   NaN          NaN             NaN      NaN   \n",
      "2023-07-05 00:00:00 NaN  NaN   NaN          NaN             NaN      NaN   \n",
      "2023-07-06 00:00:00 NaN  NaN   NaN          NaN             NaN      NaN   \n",
      "2023-07-07 00:00:00 NaN  NaN   NaN          NaN             NaN      NaN   \n",
      "2023-07-08 00:00:00 NaN  NaN   NaN          NaN             NaN      NaN   \n",
      "2023-07-09 00:00:00 NaN  NaN   NaN          NaN             NaN      NaN   \n",
      "2023-07-10 00:00:00 NaN  NaN   NaN          NaN             NaN      NaN   \n",
      "2023-07-11 00:00:00 NaN  NaN   NaN          NaN             NaN      NaN   \n",
      "2023-07-12 00:00:00 NaN  NaN   NaN          NaN             NaN      NaN   \n",
      "2023-07-13 00:00:00 NaN  NaN   NaN          NaN             NaN      NaN   \n",
      "2023-07-14 00:00:00 NaN  NaN   NaN          NaN             NaN      NaN   \n",
      "2023-07-15 00:00:00 NaN  NaN   NaN          NaN             NaN      NaN   \n",
      "2023-07-16 00:00:00 NaN  NaN   NaN          NaN             NaN      NaN   \n",
      "2023-07-17 00:00:00 NaN  NaN   NaN          NaN             NaN      NaN   \n",
      "2023-07-18 00:00:00 NaN  NaN   NaN          NaN             NaN      NaN   \n",
      "2023-07-19 00:00:00 NaN  NaN   NaN          NaN             NaN      NaN   \n",
      "2023-07-20 00:00:00 NaN  NaN   NaN          NaN             NaN      NaN   \n",
      "2023-07-21 00:00:00 NaN  NaN   NaN          NaN             NaN      NaN   \n",
      "2023-07-22 00:00:00 NaN  NaN   NaN          NaN             NaN      NaN   \n",
      "2023-07-23 00:00:00 NaN  NaN   NaN          NaN             NaN      NaN   \n",
      "2023-07-24 00:00:00 NaN  NaN   NaN          NaN             NaN      NaN   \n",
      "2023-07-25 00:00:00 NaN  NaN   NaN          NaN             NaN      NaN   \n",
      "2023-07-26 00:00:00 NaN  NaN   NaN          NaN             NaN      NaN   \n",
      "2023-07-27 00:00:00 NaN  NaN   NaN          NaN             NaN      NaN   \n",
      "2023-07-28 00:00:00 NaN  NaN   NaN          NaN             NaN      NaN   \n",
      "2023-07-29 00:00:00 NaN  NaN   NaN          NaN             NaN      NaN   \n",
      "2023-07-30 00:00:00 NaN  NaN   NaN          NaN             NaN      NaN   \n",
      "2023-07-31 00:00:00 NaN  NaN   NaN          NaN             NaN      NaN   \n",
      "2023-08-01 00:00:00 NaN  NaN   NaN          NaN             NaN      NaN   \n",
      "2023-08-02 00:00:00 NaN  NaN   NaN          NaN             NaN      NaN   \n",
      "2023-08-03 00:00:00 NaN  NaN   NaN          NaN             NaN      NaN   \n",
      "2023-08-04 00:00:00 NaN  NaN   NaN          NaN             NaN      NaN   \n",
      "2023-08-05 00:00:00 NaN  NaN   NaN          NaN             NaN      NaN   \n",
      "2023-08-06 00:00:00 NaN  NaN   NaN          NaN             NaN      NaN   \n",
      "\n",
      "                     minumum  label    predict  \n",
      "date                                            \n",
      "2023-06-28 00:00:00      NaN    NaN  45.592538  \n",
      "2023-06-29 00:00:00      NaN    NaN  43.887682  \n",
      "2023-06-30 00:00:00      NaN    NaN  44.624595  \n",
      "2023-07-01 00:00:00      NaN    NaN  45.371727  \n",
      "2023-07-02 00:00:00      NaN    NaN  46.078798  \n",
      "2023-07-03 00:00:00      NaN    NaN  44.772033  \n",
      "2023-07-04 00:00:00      NaN    NaN  43.885809  \n",
      "2023-07-05 00:00:00      NaN    NaN  43.503409  \n",
      "2023-07-06 00:00:00      NaN    NaN  43.885872  \n",
      "2023-07-07 00:00:00      NaN    NaN  43.953000  \n",
      "2023-07-08 00:00:00      NaN    NaN  40.869819  \n",
      "2023-07-09 00:00:00      NaN    NaN  39.478694  \n",
      "2023-07-10 00:00:00      NaN    NaN  39.051632  \n",
      "2023-07-11 00:00:00      NaN    NaN  40.489024  \n",
      "2023-07-12 00:00:00      NaN    NaN  38.758686  \n",
      "2023-07-13 00:00:00      NaN    NaN  39.362324  \n",
      "2023-07-14 00:00:00      NaN    NaN  37.999438  \n",
      "2023-07-15 00:00:00      NaN    NaN  36.616602  \n",
      "2023-07-16 00:00:00      NaN    NaN  38.088627  \n",
      "2023-07-17 00:00:00      NaN    NaN  36.259067  \n",
      "2023-07-18 00:00:00      NaN    NaN  35.330093  \n",
      "2023-07-19 00:00:00      NaN    NaN  36.045450  \n",
      "2023-07-20 00:00:00      NaN    NaN  34.051551  \n",
      "2023-07-21 00:00:00      NaN    NaN  34.405654  \n",
      "2023-07-22 00:00:00      NaN    NaN  34.114843  \n",
      "2023-07-23 00:00:00      NaN    NaN  35.016796  \n",
      "2023-07-24 00:00:00      NaN    NaN  33.607815  \n",
      "2023-07-25 00:00:00      NaN    NaN  34.302096  \n",
      "2023-07-26 00:00:00      NaN    NaN  34.442708  \n",
      "2023-07-27 00:00:00      NaN    NaN  34.382255  \n",
      "2023-07-28 00:00:00      NaN    NaN  34.516333  \n",
      "2023-07-29 00:00:00      NaN    NaN  32.228863  \n",
      "2023-07-30 00:00:00      NaN    NaN  33.292368  \n",
      "2023-07-31 00:00:00      NaN    NaN  32.770904  \n",
      "2023-08-01 00:00:00      NaN    NaN  32.711990  \n",
      "2023-08-02 00:00:00      NaN    NaN  32.633630  \n",
      "2023-08-03 00:00:00      NaN    NaN  33.307040  \n",
      "2023-08-04 00:00:00      NaN    NaN  34.566600  \n",
      "2023-08-05 00:00:00      NaN    NaN  34.499274  \n",
      "2023-08-06 00:00:00      NaN    NaN  32.487252  \n"
     ]
    },
    {
     "data": {
      "image/png": "[encoded data removed]",
      "text/plain": [
       "<Figure size 432x288 with 1 Axes>"
      ]
     },
     "metadata": {},
     "output_type": "display_data"
    }
   ],
   "source": [
    "import pandas as pd\n",
    "import numpy as np\n",
    "from sklearn.preprocessing import StandardScaler\n",
    "from sklearn.model_selection import train_test_split\n",
    "from sklearn.linear_model import LinearRegression\n",
    "import datetime\n",
    "import time\n",
    "import matplotlib.pyplot as plt\n",
    "import matplotlib.style as style\n",
    "\n",
    "\n",
    "# 读取数据\n",
    "def main(stock_name):\n",
    "    df = pd.read_csv(f\"{stock_name}.csv\")\n",
    "\n",
    "    df.dropna(inplace=True)\n",
    "    df = df.set_index(['date'])\n",
    "\n",
    "    predict_count = int(len(df) * 0.02)\n",
    "    df['label'] = df['close'].shift(-predict_count)\n",
    "    print(df)\n",
    "\n",
    "    X = df.drop(['code', 'label'], axis=1)\n",
    "    y = df['label'][:-predict_count]\n",
    "\n",
    "    scale = StandardScaler()\n",
    "    scale.fit(X)\n",
    "    x = scale.transform(X)\n",
    "    # print(X)\n",
    "\n",
    "    X_lately = X[-predict_count:]\n",
    "    X = X[:-predict_count]\n",
    "\n",
    "    x_train, x_test, y_train, y_test = train_test_split(X, y, test_size=0.02)\n",
    "\n",
    "    model = LinearRegression()\n",
    "    model.fit(x_train, y_train)\n",
    "    print(model.score(x_test, y_test))\n",
    "\n",
    "    predict = model.predict(X_lately)\n",
    "    print(predict)\n",
    "\n",
    "    df['predict'] = np.nan\n",
    "    print(df)\n",
    "\n",
    "    # print(time.mktime(time.strptime(df.index[-1], \"%Y-%m-%d\")))\n",
    "    last_date_st = time.mktime(time.strptime(df.index[-1], \"%Y-%m-%d\"))\n",
    "    next_date_st = last_date_st + 86400\n",
    "    # next_date = datetime.datetime.fromtimestamp(next_date_st)\n",
    "    # print(next_date)\n",
    "\n",
    "    for i in predict:\n",
    "        next_date = datetime.datetime.fromtimestamp(next_date_st)\n",
    "        df.loc[next_date] = [np.nan for _ in range(len(df.columns) - 1)] + [i]\n",
    "        next_date_st += 86400\n",
    "\n",
    "    print(df.tail(40))\n",
    "\n",
    "    style.use('ggplot')\n",
    "    # df['close'].plot()\n",
    "    df['predict'].plot()\n",
    "    plt.show()\n",
    "\n",
    "\n",
    "if __name__ == '__main__':\n",
    "    filename = \"海康威视_clean_MaxMin\"\n",
    "    main(filename)\n"
   ]
  },
  {
   "cell_type": "code",
   "execution_count": null,
   "id": "8e0d9185",
   "metadata": {},
   "outputs": [],
   "source": []
  }
 ],
 "metadata": {
  "kernelspec": {
   "display_name": "Python 3 (ipykernel)",
   "language": "python",
   "name": "python3"
  },
  "language_info": {
   "codemirror_mode": {
    "name": "ipython",
    "version": 3
   },
   "file_extension": ".py",
   "mimetype": "text/x-python",
   "name": "python",
   "nbconvert_exporter": "python",
   "pygments_lexer": "ipython3",
   "version": "3.9.12"
  },
  "toc": {
   "base_numbering": 1,
   "nav_menu": {},
   "number_sections": true,
   "sideBar": true,
   "skip_h1_title": false,
   "title_cell": "Table of Contents",
   "title_sidebar": "Contents",
   "toc_cell": false,
   "toc_position": {},
   "toc_section_display": true,
   "toc_window_display": false
  }
 },
 "nbformat": 4,
 "nbformat_minor": 5
}
