{
 "cells": [
  {
   "cell_type": "code",
   "execution_count": 1,
   "id": "533c6f99",
   "metadata": {},
   "outputs": [
    {
     "data": {
      "text/html": [
       "<div>\n",
       "<style scoped>\n",
       "    .dataframe tbody tr th:only-of-type {\n",
       "        vertical-align: middle;\n",
       "    }\n",
       "\n",
       "    .dataframe tbody tr th {\n",
       "        vertical-align: top;\n",
       "    }\n",
       "\n",
       "    .dataframe thead th {\n",
       "        text-align: right;\n",
       "    }\n",
       "</style>\n",
       "<table border=\"1\" class=\"dataframe\">\n",
       "  <thead>\n",
       "    <tr style=\"text-align: right;\">\n",
       "      <th></th>\n",
       "      <th>open</th>\n",
       "      <th>close</th>\n",
       "      <th>high</th>\n",
       "      <th>low</th>\n",
       "      <th>volume</th>\n",
       "      <th>code</th>\n",
       "    </tr>\n",
       "    <tr>\n",
       "      <th>date</th>\n",
       "      <th></th>\n",
       "      <th></th>\n",
       "      <th></th>\n",
       "      <th></th>\n",
       "      <th></th>\n",
       "      <th></th>\n",
       "    </tr>\n",
       "  </thead>\n",
       "  <tbody>\n",
       "    <tr>\n",
       "      <th>2010-05-28</th>\n",
       "      <td>-1.039</td>\n",
       "      <td>-0.821</td>\n",
       "      <td>-0.761</td>\n",
       "      <td>-1.101</td>\n",
       "      <td>340983.54</td>\n",
       "      <td>2415</td>\n",
       "    </tr>\n",
       "    <tr>\n",
       "      <th>2010-05-31</th>\n",
       "      <td>-0.601</td>\n",
       "      <td>-0.650</td>\n",
       "      <td>-0.496</td>\n",
       "      <td>-0.733</td>\n",
       "      <td>172278.73</td>\n",
       "      <td>2415</td>\n",
       "    </tr>\n",
       "    <tr>\n",
       "      <th>2010-06-01</th>\n",
       "      <td>-0.594</td>\n",
       "      <td>-0.525</td>\n",
       "      <td>-0.483</td>\n",
       "      <td>-0.696</td>\n",
       "      <td>109946.80</td>\n",
       "      <td>2415</td>\n",
       "    </tr>\n",
       "    <tr>\n",
       "      <th>2010-06-02</th>\n",
       "      <td>-0.678</td>\n",
       "      <td>-0.589</td>\n",
       "      <td>-0.572</td>\n",
       "      <td>-0.804</td>\n",
       "      <td>94962.64</td>\n",
       "      <td>2415</td>\n",
       "    </tr>\n",
       "    <tr>\n",
       "      <th>2010-06-03</th>\n",
       "      <td>-0.594</td>\n",
       "      <td>-0.839</td>\n",
       "      <td>-0.551</td>\n",
       "      <td>-0.872</td>\n",
       "      <td>75605.22</td>\n",
       "      <td>2415</td>\n",
       "    </tr>\n",
       "    <tr>\n",
       "      <th>...</th>\n",
       "      <td>...</td>\n",
       "      <td>...</td>\n",
       "      <td>...</td>\n",
       "      <td>...</td>\n",
       "      <td>...</td>\n",
       "      <td>...</td>\n",
       "    </tr>\n",
       "    <tr>\n",
       "      <th>2023-05-31</th>\n",
       "      <td>35.170</td>\n",
       "      <td>34.860</td>\n",
       "      <td>35.480</td>\n",
       "      <td>34.600</td>\n",
       "      <td>257120.00</td>\n",
       "      <td>2415</td>\n",
       "    </tr>\n",
       "    <tr>\n",
       "      <th>2023-06-01</th>\n",
       "      <td>34.890</td>\n",
       "      <td>35.900</td>\n",
       "      <td>36.400</td>\n",
       "      <td>34.440</td>\n",
       "      <td>507622.00</td>\n",
       "      <td>2415</td>\n",
       "    </tr>\n",
       "    <tr>\n",
       "      <th>2023-06-02</th>\n",
       "      <td>35.900</td>\n",
       "      <td>35.910</td>\n",
       "      <td>36.080</td>\n",
       "      <td>35.480</td>\n",
       "      <td>296013.00</td>\n",
       "      <td>2415</td>\n",
       "    </tr>\n",
       "    <tr>\n",
       "      <th>2023-06-05</th>\n",
       "      <td>35.920</td>\n",
       "      <td>36.000</td>\n",
       "      <td>36.580</td>\n",
       "      <td>35.610</td>\n",
       "      <td>341780.00</td>\n",
       "      <td>2415</td>\n",
       "    </tr>\n",
       "    <tr>\n",
       "      <th>2023-06-06</th>\n",
       "      <td>36.000</td>\n",
       "      <td>34.900</td>\n",
       "      <td>36.180</td>\n",
       "      <td>34.890</td>\n",
       "      <td>311117.00</td>\n",
       "      <td>2415</td>\n",
       "    </tr>\n",
       "  </tbody>\n",
       "</table>\n",
       "<p>3110 rows × 6 columns</p>\n",
       "</div>"
      ],
      "text/plain": [
       "              open   close    high     low     volume  code\n",
       "date                                                       \n",
       "2010-05-28  -1.039  -0.821  -0.761  -1.101  340983.54  2415\n",
       "2010-05-31  -0.601  -0.650  -0.496  -0.733  172278.73  2415\n",
       "2010-06-01  -0.594  -0.525  -0.483  -0.696  109946.80  2415\n",
       "2010-06-02  -0.678  -0.589  -0.572  -0.804   94962.64  2415\n",
       "2010-06-03  -0.594  -0.839  -0.551  -0.872   75605.22  2415\n",
       "...            ...     ...     ...     ...        ...   ...\n",
       "2023-05-31  35.170  34.860  35.480  34.600  257120.00  2415\n",
       "2023-06-01  34.890  35.900  36.400  34.440  507622.00  2415\n",
       "2023-06-02  35.900  35.910  36.080  35.480  296013.00  2415\n",
       "2023-06-05  35.920  36.000  36.580  35.610  341780.00  2415\n",
       "2023-06-06  36.000  34.900  36.180  34.890  311117.00  2415\n",
       "\n",
       "[3110 rows x 6 columns]"
      ]
     },
     "execution_count": 1,
     "metadata": {},
     "output_type": "execute_result"
    }
   ],
   "source": [
    "import pandas as pd\n",
    "df = pd.read_csv(\"海康威视.csv\")\n",
    "# print(df)\n",
    "df.dropna(inplace=True)\n",
    "pre_days = 10\n",
    "df=df.set_index(['date'])\n",
    "df"
   ]
  },
  {
   "cell_type": "code",
   "execution_count": 2,
   "id": "9916ddb6",
   "metadata": {},
   "outputs": [],
   "source": [
    "def Stock_Price_LSTM_Data_precesing(df,mem_his_days,pro_days):\n",
    "#     df=df.set_index(['date'])\n",
    "    df=df.dropna() # 注意删除空值\n",
    "#     df=df.drop('code',axis=1)\n",
    "    df['label'] = df.loc[:, 'close'].shift(-pre_days).copy()\n",
    "\n",
    "    from sklearn.preprocessing import StandardScaler\n",
    "    scaler = StandardScaler()\n",
    "    sca_X = scaler.fit_transform(df.iloc[:,:-1])\n",
    "#     print(sca_X)\n",
    "\n",
    "    # 使用队列\n",
    "    from collections import deque\n",
    "    deq = deque(maxlen=mem_his_days)\n",
    "\n",
    "    X = []\n",
    "    for i in sca_X:\n",
    "        deq.append(list(i))\n",
    "        if len(deq)==mem_his_days:\n",
    "            X.append(list(deq))\n",
    "\n",
    "    X_lately = X[-pre_days:]\n",
    "    # 特征向量空间\n",
    "    X = X[:-pre_days]\n",
    "#     print(len(X))\n",
    "#     print(X[0])\n",
    "#     print(len(X_lately))\n",
    "\n",
    "    y=df['label'].values[mem_his_days-1:-pre_days]\n",
    "#     print(len(y))\n",
    "#     print(y)\n",
    "    import numpy as np\n",
    "    X = np.array(X)\n",
    "    y = np.array(y)\n",
    "#     print(X.shape)\n",
    "#     print(y.shape)\n",
    "    return df,X,y,X_lately"
   ]
  },
  {
   "cell_type": "code",
   "execution_count": 3,
   "id": "910ab377",
   "metadata": {},
   "outputs": [],
   "source": [
    "# df,X,y,X_lately = Stock_Price_LSTM_Data_precesing(df,5,10)\n",
    "# print(df.index)\n",
    "# print(X[0])\n",
    "# print(y)\n",
    "# print(len(X_lately))"
   ]
  },
  {
   "cell_type": "code",
   "execution_count": 16,
   "id": "83d83b40",
   "metadata": {
    "scrolled": true
   },
   "outputs": [
    {
     "name": "stderr",
     "output_type": "stream",
     "text": [
      "C:\\Users\\24613\\AppData\\Local\\Temp\\ipykernel_9316\\4174158026.py:5: SettingWithCopyWarning: \n",
      "A value is trying to be set on a copy of a slice from a DataFrame.\n",
      "Try using .loc[row_indexer,col_indexer] = value instead\n",
      "\n",
      "See the caveats in the documentation: https://pandas.pydata.org/pandas-docs/stable/user_guide/indexing.html#returning-a-view-versus-a-copy\n",
      "  df['label'] = df.loc[:, 'close'].shift(-pre_days).copy()\n"
     ]
    },
    {
     "name": "stdout",
     "output_type": "stream",
     "text": [
      "(2039, 5, 6) (2039,) (227, 5, 6) (227,)\n",
      "Epoch 1/50\n",
      "62/64 [============================>.] - ETA: 0s - loss: 225.0692 - mape: 106.3496"
     ]
    },
    {
     "name": "stderr",
     "output_type": "stream",
     "text": [
      "WARNING:absl:Found untraced functions such as _update_step_xla while saving (showing 1 of 1). These functions will not be directly callable after loading.\n"
     ]
    },
    {
     "name": "stdout",
     "output_type": "stream",
     "text": [
      "INFO:tensorflow:Assets written to: ..\\models\\98.08_01_men_5_lstm_2_dense_2_unit_8\\assets\n"
     ]
    },
    {
     "name": "stderr",
     "output_type": "stream",
     "text": [
      "INFO:tensorflow:Assets written to: ..\\models\\98.08_01_men_5_lstm_2_dense_2_unit_8\\assets\n"
     ]
    },
    {
     "name": "stdout",
     "output_type": "stream",
     "text": [
      "64/64 [==============================] - 14s 135ms/step - loss: 224.1952 - mape: 106.6641 - val_loss: 759.9286 - val_mape: 98.0758\n",
      "Epoch 2/50\n",
      "61/64 [===========================>..] - ETA: 0s - loss: 100.7880 - mape: 248.7807"
     ]
    },
    {
     "name": "stderr",
     "output_type": "stream",
     "text": [
      "WARNING:absl:Found untraced functions such as _update_step_xla while saving (showing 1 of 1). These functions will not be directly callable after loading.\n"
     ]
    },
    {
     "name": "stdout",
     "output_type": "stream",
     "text": [
      "INFO:tensorflow:Assets written to: ..\\models\\18.79_02_men_5_lstm_2_dense_2_unit_8\\assets\n"
     ]
    },
    {
     "name": "stderr",
     "output_type": "stream",
     "text": [
      "INFO:tensorflow:Assets written to: ..\\models\\18.79_02_men_5_lstm_2_dense_2_unit_8\\assets\n"
     ]
    },
    {
     "name": "stdout",
     "output_type": "stream",
     "text": [
      "64/64 [==============================] - 8s 125ms/step - loss: 97.9756 - mape: 248.2484 - val_loss: 44.0030 - val_mape: 18.7853\n",
      "Epoch 3/50\n",
      "61/64 [===========================>..] - ETA: 0s - loss: 20.3092 - mape: 306.6060"
     ]
    },
    {
     "name": "stderr",
     "output_type": "stream",
     "text": [
      "WARNING:absl:Found untraced functions such as _update_step_xla while saving (showing 1 of 1). These functions will not be directly callable after loading.\n"
     ]
    },
    {
     "name": "stdout",
     "output_type": "stream",
     "text": [
      "INFO:tensorflow:Assets written to: ..\\models\\12.33_03_men_5_lstm_2_dense_2_unit_8\\assets\n"
     ]
    },
    {
     "name": "stderr",
     "output_type": "stream",
     "text": [
      "INFO:tensorflow:Assets written to: ..\\models\\12.33_03_men_5_lstm_2_dense_2_unit_8\\assets\n"
     ]
    },
    {
     "name": "stdout",
     "output_type": "stream",
     "text": [
      "64/64 [==============================] - 8s 123ms/step - loss: 19.9116 - mape: 299.4402 - val_loss: 16.5085 - val_mape: 12.3264\n",
      "Epoch 4/50\n",
      "61/64 [===========================>..] - ETA: 0s - loss: 6.4552 - mape: 171.1523"
     ]
    },
    {
     "name": "stderr",
     "output_type": "stream",
     "text": [
      "WARNING:absl:Found untraced functions such as _update_step_xla while saving (showing 1 of 1). These functions will not be directly callable after loading.\n"
     ]
    },
    {
     "name": "stdout",
     "output_type": "stream",
     "text": [
      "INFO:tensorflow:Assets written to: ..\\models\\10.05_04_men_5_lstm_2_dense_2_unit_8\\assets\n"
     ]
    },
    {
     "name": "stderr",
     "output_type": "stream",
     "text": [
      "INFO:tensorflow:Assets written to: ..\\models\\10.05_04_men_5_lstm_2_dense_2_unit_8\\assets\n"
     ]
    },
    {
     "name": "stdout",
     "output_type": "stream",
     "text": [
      "64/64 [==============================] - 8s 122ms/step - loss: 6.3851 - mape: 169.8190 - val_loss: 10.4995 - val_mape: 10.0473\n",
      "Epoch 5/50\n",
      "61/64 [===========================>..] - ETA: 0s - loss: 4.0210 - mape: 94.7030"
     ]
    },
    {
     "name": "stderr",
     "output_type": "stream",
     "text": [
      "WARNING:absl:Found untraced functions such as _update_step_xla while saving (showing 1 of 1). These functions will not be directly callable after loading.\n"
     ]
    },
    {
     "name": "stdout",
     "output_type": "stream",
     "text": [
      "INFO:tensorflow:Assets written to: ..\\models\\9.42_05_men_5_lstm_2_dense_2_unit_8\\assets\n"
     ]
    },
    {
     "name": "stderr",
     "output_type": "stream",
     "text": [
      "INFO:tensorflow:Assets written to: ..\\models\\9.42_05_men_5_lstm_2_dense_2_unit_8\\assets\n"
     ]
    },
    {
     "name": "stdout",
     "output_type": "stream",
     "text": [
      "64/64 [==============================] - 7s 118ms/step - loss: 3.9721 - mape: 94.0698 - val_loss: 9.2815 - val_mape: 9.4197\n",
      "Epoch 6/50\n",
      "61/64 [===========================>..] - ETA: 0s - loss: 3.1429 - mape: 58.9037"
     ]
    },
    {
     "name": "stderr",
     "output_type": "stream",
     "text": [
      "WARNING:absl:Found untraced functions such as _update_step_xla while saving (showing 1 of 1). These functions will not be directly callable after loading.\n"
     ]
    },
    {
     "name": "stdout",
     "output_type": "stream",
     "text": [
      "INFO:tensorflow:Assets written to: ..\\models\\8.94_06_men_5_lstm_2_dense_2_unit_8\\assets\n"
     ]
    },
    {
     "name": "stderr",
     "output_type": "stream",
     "text": [
      "INFO:tensorflow:Assets written to: ..\\models\\8.94_06_men_5_lstm_2_dense_2_unit_8\\assets\n"
     ]
    },
    {
     "name": "stdout",
     "output_type": "stream",
     "text": [
      "64/64 [==============================] - 8s 121ms/step - loss: 3.1457 - mape: 58.9366 - val_loss: 8.4512 - val_mape: 8.9394\n",
      "Epoch 7/50\n",
      "61/64 [===========================>..] - ETA: 0s - loss: 2.7566 - mape: 54.3230"
     ]
    },
    {
     "name": "stderr",
     "output_type": "stream",
     "text": [
      "WARNING:absl:Found untraced functions such as _update_step_xla while saving (showing 1 of 1). These functions will not be directly callable after loading.\n"
     ]
    },
    {
     "name": "stdout",
     "output_type": "stream",
     "text": [
      "INFO:tensorflow:Assets written to: ..\\models\\8.66_07_men_5_lstm_2_dense_2_unit_8\\assets\n"
     ]
    },
    {
     "name": "stderr",
     "output_type": "stream",
     "text": [
      "INFO:tensorflow:Assets written to: ..\\models\\8.66_07_men_5_lstm_2_dense_2_unit_8\\assets\n"
     ]
    },
    {
     "name": "stdout",
     "output_type": "stream",
     "text": [
      "64/64 [==============================] - 8s 123ms/step - loss: 2.7934 - mape: 55.7567 - val_loss: 8.0907 - val_mape: 8.6647\n",
      "Epoch 8/50\n",
      "64/64 [==============================] - 1s 10ms/step - loss: 2.6105 - mape: 54.8943 - val_loss: 8.3455 - val_mape: 8.7351\n",
      "Epoch 9/50\n",
      "64/64 [==============================] - 1s 10ms/step - loss: 2.5433 - mape: 51.5000 - val_loss: 8.1187 - val_mape: 8.8248\n",
      "Epoch 10/50\n",
      "64/64 [==============================] - 1s 10ms/step - loss: 2.5464 - mape: 53.4225 - val_loss: 8.1929 - val_mape: 8.6760\n",
      "Epoch 11/50\n",
      "64/64 [==============================] - 1s 10ms/step - loss: 2.4276 - mape: 48.6820 - val_loss: 8.4080 - val_mape: 8.7428\n",
      "Epoch 12/50\n",
      "64/64 [==============================] - 1s 10ms/step - loss: 2.4656 - mape: 49.5210 - val_loss: 8.1738 - val_mape: 8.7968\n",
      "Epoch 13/50\n",
      "64/64 [==============================] - 1s 10ms/step - loss: 2.4520 - mape: 46.4555 - val_loss: 8.4210 - val_mape: 8.9226\n",
      "Epoch 14/50\n",
      "61/64 [===========================>..] - ETA: 0s - loss: 2.3753 - mape: 45.2418"
     ]
    },
    {
     "name": "stderr",
     "output_type": "stream",
     "text": [
      "WARNING:absl:Found untraced functions such as _update_step_xla while saving (showing 1 of 1). These functions will not be directly callable after loading.\n"
     ]
    },
    {
     "name": "stdout",
     "output_type": "stream",
     "text": [
      "INFO:tensorflow:Assets written to: ..\\models\\8.64_14_men_5_lstm_2_dense_2_unit_8\\assets\n"
     ]
    },
    {
     "name": "stderr",
     "output_type": "stream",
     "text": [
      "INFO:tensorflow:Assets written to: ..\\models\\8.64_14_men_5_lstm_2_dense_2_unit_8\\assets\n"
     ]
    },
    {
     "name": "stdout",
     "output_type": "stream",
     "text": [
      "64/64 [==============================] - 8s 123ms/step - loss: 2.3433 - mape: 46.2472 - val_loss: 8.3690 - val_mape: 8.6422\n",
      "Epoch 15/50\n",
      "61/64 [===========================>..] - ETA: 0s - loss: 2.4642 - mape: 44.7790"
     ]
    },
    {
     "name": "stderr",
     "output_type": "stream",
     "text": [
      "WARNING:absl:Found untraced functions such as _update_step_xla while saving (showing 1 of 1). These functions will not be directly callable after loading.\n"
     ]
    },
    {
     "name": "stdout",
     "output_type": "stream",
     "text": [
      "INFO:tensorflow:Assets written to: ..\\models\\8.52_15_men_5_lstm_2_dense_2_unit_8\\assets\n"
     ]
    },
    {
     "name": "stderr",
     "output_type": "stream",
     "text": [
      "INFO:tensorflow:Assets written to: ..\\models\\8.52_15_men_5_lstm_2_dense_2_unit_8\\assets\n"
     ]
    },
    {
     "name": "stdout",
     "output_type": "stream",
     "text": [
      "64/64 [==============================] - 7s 118ms/step - loss: 2.4737 - mape: 44.8696 - val_loss: 7.6336 - val_mape: 8.5186\n",
      "Epoch 16/50\n",
      "64/64 [==============================] - 1s 10ms/step - loss: 2.4165 - mape: 42.9793 - val_loss: 7.8685 - val_mape: 8.7840\n",
      "Epoch 17/50\n",
      "64/64 [==============================] - 1s 10ms/step - loss: 2.2867 - mape: 44.4158 - val_loss: 10.2603 - val_mape: 9.2029\n",
      "Epoch 18/50\n",
      "64/64 [==============================] - 1s 10ms/step - loss: 2.3127 - mape: 44.3400 - val_loss: 8.6969 - val_mape: 8.6184\n",
      "Epoch 19/50\n",
      "64/64 [==============================] - 1s 10ms/step - loss: 2.2723 - mape: 40.8451 - val_loss: 7.7057 - val_mape: 8.6734\n",
      "Epoch 20/50\n",
      "64/64 [==============================] - 1s 10ms/step - loss: 2.4211 - mape: 39.7742 - val_loss: 9.6462 - val_mape: 9.9115\n",
      "Epoch 21/50\n",
      "64/64 [==============================] - 1s 10ms/step - loss: 2.4502 - mape: 38.7362 - val_loss: 8.4105 - val_mape: 8.5514\n",
      "Epoch 22/50\n",
      "64/64 [==============================] - 1s 10ms/step - loss: 2.2407 - mape: 41.6825 - val_loss: 7.9862 - val_mape: 8.8875\n",
      "Epoch 23/50\n",
      "64/64 [==============================] - 1s 10ms/step - loss: 2.1992 - mape: 37.3383 - val_loss: 10.7362 - val_mape: 9.2477\n",
      "Epoch 24/50\n",
      "61/64 [===========================>..] - ETA: 0s - loss: 2.2280 - mape: 37.9465"
     ]
    },
    {
     "name": "stderr",
     "output_type": "stream",
     "text": [
      "WARNING:absl:Found untraced functions such as _update_step_xla while saving (showing 1 of 1). These functions will not be directly callable after loading.\n"
     ]
    },
    {
     "name": "stdout",
     "output_type": "stream",
     "text": [
      "INFO:tensorflow:Assets written to: ..\\models\\8.49_24_men_5_lstm_2_dense_2_unit_8\\assets\n"
     ]
    },
    {
     "name": "stderr",
     "output_type": "stream",
     "text": [
      "INFO:tensorflow:Assets written to: ..\\models\\8.49_24_men_5_lstm_2_dense_2_unit_8\\assets\n"
     ]
    },
    {
     "name": "stdout",
     "output_type": "stream",
     "text": [
      "64/64 [==============================] - 8s 120ms/step - loss: 2.2270 - mape: 37.6755 - val_loss: 7.6952 - val_mape: 8.4851\n",
      "Epoch 25/50\n",
      "64/64 [==============================] - 1s 10ms/step - loss: 2.2400 - mape: 36.6185 - val_loss: 8.6709 - val_mape: 8.6292\n",
      "Epoch 26/50\n",
      "64/64 [==============================] - 1s 10ms/step - loss: 2.2371 - mape: 35.4451 - val_loss: 7.8773 - val_mape: 8.5238\n",
      "Epoch 27/50\n",
      "64/64 [==============================] - 1s 10ms/step - loss: 2.2602 - mape: 38.6590 - val_loss: 7.7531 - val_mape: 8.6579\n",
      "Epoch 28/50\n",
      "64/64 [==============================] - 1s 10ms/step - loss: 2.1497 - mape: 35.3661 - val_loss: 9.5945 - val_mape: 8.8783\n",
      "Epoch 29/50\n",
      "64/64 [==============================] - 1s 10ms/step - loss: 2.4012 - mape: 37.3228 - val_loss: 9.3749 - val_mape: 8.8075\n",
      "Epoch 30/50\n",
      "64/64 [==============================] - 1s 10ms/step - loss: 2.1312 - mape: 41.6150 - val_loss: 7.6687 - val_mape: 8.7071\n",
      "Epoch 31/50\n",
      "61/64 [===========================>..] - ETA: 0s - loss: 2.0115 - mape: 40.3467"
     ]
    },
    {
     "name": "stderr",
     "output_type": "stream",
     "text": [
      "WARNING:absl:Found untraced functions such as _update_step_xla while saving (showing 1 of 1). These functions will not be directly callable after loading.\n"
     ]
    },
    {
     "name": "stdout",
     "output_type": "stream",
     "text": [
      "INFO:tensorflow:Assets written to: ..\\models\\8.28_31_men_5_lstm_2_dense_2_unit_8\\assets\n"
     ]
    },
    {
     "name": "stderr",
     "output_type": "stream",
     "text": [
      "INFO:tensorflow:Assets written to: ..\\models\\8.28_31_men_5_lstm_2_dense_2_unit_8\\assets\n"
     ]
    },
    {
     "name": "stdout",
     "output_type": "stream",
     "text": [
      "64/64 [==============================] - 8s 126ms/step - loss: 2.0232 - mape: 41.2619 - val_loss: 7.6002 - val_mape: 8.2753\n",
      "Epoch 32/50\n",
      "64/64 [==============================] - 1s 10ms/step - loss: 2.0671 - mape: 38.4238 - val_loss: 8.2070 - val_mape: 9.0901\n",
      "Epoch 33/50\n",
      "64/64 [==============================] - 1s 10ms/step - loss: 2.1923 - mape: 42.4499 - val_loss: 8.4567 - val_mape: 8.4285\n",
      "Epoch 34/50\n",
      "64/64 [==============================] - 1s 10ms/step - loss: 1.9996 - mape: 44.1581 - val_loss: 8.5885 - val_mape: 9.3131\n",
      "Epoch 35/50\n",
      "64/64 [==============================] - 1s 10ms/step - loss: 2.1409 - mape: 41.1991 - val_loss: 7.8209 - val_mape: 8.2872\n",
      "Epoch 36/50\n",
      "64/64 [==============================] - 1s 10ms/step - loss: 2.0167 - mape: 41.2588 - val_loss: 8.3339 - val_mape: 9.1606\n",
      "Epoch 37/50\n",
      "64/64 [==============================] - 1s 10ms/step - loss: 2.0087 - mape: 43.1524 - val_loss: 8.2430 - val_mape: 8.3667\n",
      "Epoch 38/50\n",
      "64/64 [==============================] - 1s 10ms/step - loss: 1.9242 - mape: 39.9528 - val_loss: 8.8589 - val_mape: 8.5442\n",
      "Epoch 39/50\n",
      "64/64 [==============================] - 1s 10ms/step - loss: 1.9553 - mape: 44.7860 - val_loss: 8.7561 - val_mape: 8.5116\n",
      "Epoch 40/50\n",
      "61/64 [===========================>..] - ETA: 0s - loss: 2.0008 - mape: 42.9551"
     ]
    },
    {
     "name": "stderr",
     "output_type": "stream",
     "text": [
      "WARNING:absl:Found untraced functions such as _update_step_xla while saving (showing 1 of 1). These functions will not be directly callable after loading.\n"
     ]
    },
    {
     "name": "stdout",
     "output_type": "stream",
     "text": [
      "INFO:tensorflow:Assets written to: ..\\models\\8.21_40_men_5_lstm_2_dense_2_unit_8\\assets\n"
     ]
    },
    {
     "name": "stderr",
     "output_type": "stream",
     "text": [
      "INFO:tensorflow:Assets written to: ..\\models\\8.21_40_men_5_lstm_2_dense_2_unit_8\\assets\n"
     ]
    },
    {
     "name": "stdout",
     "output_type": "stream",
     "text": [
      "64/64 [==============================] - 8s 125ms/step - loss: 1.9872 - mape: 42.7386 - val_loss: 7.2142 - val_mape: 8.2067\n",
      "Epoch 41/50\n",
      "64/64 [==============================] - 1s 10ms/step - loss: 1.9849 - mape: 44.0666 - val_loss: 7.4173 - val_mape: 8.2263\n",
      "Epoch 42/50\n",
      "61/64 [===========================>..] - ETA: 0s - loss: 1.9608 - mape: 38.4948"
     ]
    },
    {
     "name": "stderr",
     "output_type": "stream",
     "text": [
      "WARNING:absl:Found untraced functions such as _update_step_xla while saving (showing 1 of 1). These functions will not be directly callable after loading.\n"
     ]
    },
    {
     "name": "stdout",
     "output_type": "stream",
     "text": [
      "INFO:tensorflow:Assets written to: ..\\models\\8.17_42_men_5_lstm_2_dense_2_unit_8\\assets\n"
     ]
    },
    {
     "name": "stderr",
     "output_type": "stream",
     "text": [
      "INFO:tensorflow:Assets written to: ..\\models\\8.17_42_men_5_lstm_2_dense_2_unit_8\\assets\n"
     ]
    },
    {
     "name": "stdout",
     "output_type": "stream",
     "text": [
      "64/64 [==============================] - 8s 126ms/step - loss: 1.9712 - mape: 37.9797 - val_loss: 7.1758 - val_mape: 8.1728\n",
      "Epoch 43/50\n",
      "61/64 [===========================>..] - ETA: 0s - loss: 1.9768 - mape: 41.9926"
     ]
    },
    {
     "name": "stderr",
     "output_type": "stream",
     "text": [
      "WARNING:absl:Found untraced functions such as _update_step_xla while saving (showing 1 of 1). These functions will not be directly callable after loading.\n"
     ]
    },
    {
     "name": "stdout",
     "output_type": "stream",
     "text": [
      "INFO:tensorflow:Assets written to: ..\\models\\8.05_43_men_5_lstm_2_dense_2_unit_8\\assets\n"
     ]
    },
    {
     "name": "stderr",
     "output_type": "stream",
     "text": [
      "INFO:tensorflow:Assets written to: ..\\models\\8.05_43_men_5_lstm_2_dense_2_unit_8\\assets\n"
     ]
    },
    {
     "name": "stdout",
     "output_type": "stream",
     "text": [
      "64/64 [==============================] - 8s 122ms/step - loss: 1.9942 - mape: 41.4812 - val_loss: 7.0429 - val_mape: 8.0483\n",
      "Epoch 44/50\n",
      "64/64 [==============================] - 1s 10ms/step - loss: 1.9195 - mape: 40.0085 - val_loss: 7.3255 - val_mape: 8.2094\n",
      "Epoch 45/50\n",
      "64/64 [==============================] - 1s 10ms/step - loss: 1.9249 - mape: 43.5872 - val_loss: 8.6816 - val_mape: 8.4919\n",
      "Epoch 46/50\n",
      "64/64 [==============================] - 1s 10ms/step - loss: 1.9162 - mape: 41.9945 - val_loss: 7.2620 - val_mape: 8.1841\n",
      "Epoch 47/50\n",
      "64/64 [==============================] - 1s 10ms/step - loss: 1.9223 - mape: 45.3876 - val_loss: 8.4332 - val_mape: 8.3650\n",
      "Epoch 48/50\n",
      "64/64 [==============================] - 1s 10ms/step - loss: 1.9535 - mape: 41.0218 - val_loss: 8.0910 - val_mape: 8.2818\n",
      "Epoch 49/50\n",
      "64/64 [==============================] - 1s 9ms/step - loss: 1.8894 - mape: 40.2957 - val_loss: 9.5071 - val_mape: 8.7363\n",
      "Epoch 50/50\n",
      "64/64 [==============================] - 1s 10ms/step - loss: 1.9416 - mape: 43.2777 - val_loss: 7.8819 - val_mape: 8.2460\n"
     ]
    }
   ],
   "source": [
    "# mem_days=[5,10,15]\n",
    "# lstm_layers=[1,2,3]\n",
    "# dense_layers = [1,2,3]\n",
    "# units = [8,16,32]# 神经元\n",
    "mem_days=[5]\n",
    "lstm_layers=[2]\n",
    "dense_layers = [2]\n",
    "units = [8]# 神经元\n",
    "# 5.55_07_men_5_lstm_2_dense_2_unit_8\n",
    "# 模型优化 自动训练寻找最优模型\n",
    "from tensorflow.keras.callbacks import ModelCheckpoint\n",
    "for the_mem_days in mem_days:\n",
    "    for the_lstm_layers in lstm_layers:\n",
    "        for the_dense_layers in dense_layers:\n",
    "            for the_units in units:\n",
    "                filepath = '..\\models\\{val_mape:.2f}_{epoch:02d}_'+f'men_{the_mem_days}_lstm_{the_lstm_layers}_dense_{the_dense_layers}_unit_{the_units}'\n",
    "                checkpoint = ModelCheckpoint(\n",
    "                    filepath=filepath,\n",
    "                    save_weights_only=False,\n",
    "                    monitor='val_mape', # 这里使用平均误差率  val_accuracy（准确率）（主要用于分类）\n",
    "                    mode='min',# 平均误差率越小越好\n",
    "                    save_best_only=True)\n",
    "                \n",
    "                df,X,y,X_lately = Stock_Price_LSTM_Data_precesing(df,the_mem_days,pre_days)\n",
    "                from sklearn.model_selection import train_test_split\n",
    "                X_train,X_test,y_train,y_test = train_test_split(X,y,shuffle=False,test_size=0.1)\n",
    "                \n",
    "                 # 构建神经网络\n",
    "                import tensorflow as tf\n",
    "                from tensorflow.keras.models import Sequential\n",
    "                # 三层：lstm，Dense，删除部分神经元\n",
    "                from tensorflow.keras.layers import LSTM,Dense,Dropout\n",
    "                model = Sequential()\n",
    "                # 激活函数relu，循环神经网络要求第一个return\n",
    "                model.add(LSTM(the_units,input_shape=X.shape[1:],activation='relu',return_sequences=True))\n",
    "                # 防止过拟合，删除0.1%的神经元\n",
    "                model.add(Dropout(0,1))\n",
    "\n",
    "                for i in range(the_lstm_layers):\n",
    "                    # 此处input_shape由上一层决定\n",
    "                    model.add(LSTM(the_units,activation='relu',return_sequences=True))\n",
    "                    model.add(Dropout(0,1))\n",
    "                    \n",
    "                model.add(LSTM(the_units,activation='relu'))\n",
    "                model.add(Dropout(0,1))\n",
    "                # 构建全连接层\n",
    "                for i in range(the_dense_layers):\n",
    "                    model.add(Dense(the_units,activation='relu'))\n",
    "                    model.add(Dropout(0,1))\n",
    "                # 输出层，只输出一个值\n",
    "                model.add(Dense(1))\n",
    "                # 编译\n",
    "                model.compile(optimizer='adam',# 优化器\n",
    "                             loss='mse',# 损失函数（此处要求回归）\n",
    "                             metrics=['mape'])# 评价函数（此处要求回归） MAPE 平均绝对百分比误差\n",
    "                # 训练模型 训练数据集，32，50期训练，校验数据集\n",
    "                print(X_train.shape,y_train.shape,X_test.shape,y_test.shape)\n",
    "                model.fit(X_train,y_train,batch_size=32,epochs=50,validation_data=(X_test,y_test),callbacks=[checkpoint])     "
   ]
  },
  {
   "cell_type": "code",
   "execution_count": 17,
   "id": "1a379488",
   "metadata": {},
   "outputs": [],
   "source": [
    "from tensorflow.keras.models import load_model\n",
    "best_model = load_model('../models/5.55_07_men_5_lstm_2_dense_2_unit_8')"
   ]
  },
  {
   "cell_type": "code",
   "execution_count": 18,
   "id": "479c276a",
   "metadata": {},
   "outputs": [
    {
     "name": "stdout",
     "output_type": "stream",
     "text": [
      "Model: \"sequential_14\"\n",
      "_________________________________________________________________\n",
      " Layer (type)                Output Shape              Param #   \n",
      "=================================================================\n",
      " lstm_45 (LSTM)              (None, 5, 8)              480       \n",
      "                                                                 \n",
      " dropout_68 (Dropout)        (None, 5, 8)              0         \n",
      "                                                                 \n",
      " lstm_46 (LSTM)              (None, 5, 8)              544       \n",
      "                                                                 \n",
      " dropout_69 (Dropout)        (None, 5, 8)              0         \n",
      "                                                                 \n",
      " lstm_47 (LSTM)              (None, 5, 8)              544       \n",
      "                                                                 \n",
      " dropout_70 (Dropout)        (None, 5, 8)              0         \n",
      "                                                                 \n",
      " lstm_48 (LSTM)              (None, 8)                 544       \n",
      "                                                                 \n",
      " dropout_71 (Dropout)        (None, 8)                 0         \n",
      "                                                                 \n",
      " dense_37 (Dense)            (None, 8)                 72        \n",
      "                                                                 \n",
      " dropout_72 (Dropout)        (None, 8)                 0         \n",
      "                                                                 \n",
      " dense_38 (Dense)            (None, 8)                 72        \n",
      "                                                                 \n",
      " dropout_73 (Dropout)        (None, 8)                 0         \n",
      "                                                                 \n",
      " dense_39 (Dense)            (None, 1)                 9         \n",
      "                                                                 \n",
      "=================================================================\n",
      "Total params: 2,265\n",
      "Trainable params: 2,265\n",
      "Non-trainable params: 0\n",
      "_________________________________________________________________\n"
     ]
    }
   ],
   "source": [
    "best_model.summary()"
   ]
  },
  {
   "cell_type": "code",
   "execution_count": 19,
   "id": "99e71380",
   "metadata": {},
   "outputs": [
    {
     "name": "stdout",
     "output_type": "stream",
     "text": [
      "8/8 [==============================] - 1s 4ms/step - loss: 206.2857 - mape: 50.8905\n",
      "8/8 [==============================] - 1s 4ms/step\n",
      "[[33.540333]\n",
      " [33.87154 ]\n",
      " [35.043068]\n",
      " [35.772602]\n",
      " [36.664192]\n",
      " [36.851204]\n",
      " [37.24325 ]\n",
      " [37.111465]\n",
      " [37.942867]\n",
      " [38.4605  ]\n",
      " [38.378597]\n",
      " [38.247627]\n",
      " [38.040966]\n",
      " [37.926796]\n",
      " [37.77127 ]\n",
      " [37.81667 ]\n",
      " [38.445015]\n",
      " [38.82709 ]\n",
      " [38.539814]\n",
      " [38.687244]\n",
      " [40.129795]\n",
      " [41.531033]\n",
      " [42.75665 ]\n",
      " [43.59832 ]\n",
      " [43.56163 ]\n",
      " [43.941845]\n",
      " [43.558155]\n",
      " [44.4309  ]\n",
      " [45.87791 ]\n",
      " [46.55713 ]\n",
      " [46.624832]\n",
      " [46.99729 ]\n",
      " [47.710003]\n",
      " [47.032932]\n",
      " [46.687733]\n",
      " [47.19769 ]\n",
      " [48.27319 ]\n",
      " [48.875416]\n",
      " [47.918556]\n",
      " [48.200855]\n",
      " [47.23353 ]\n",
      " [46.33939 ]\n",
      " [46.60581 ]\n",
      " [47.073544]\n",
      " [46.563847]\n",
      " [46.808876]\n",
      " [46.747303]\n",
      " [47.26399 ]\n",
      " [47.764385]\n",
      " [46.79823 ]\n",
      " [46.111607]\n",
      " [45.35893 ]\n",
      " [45.408096]\n",
      " [46.12009 ]\n",
      " [46.441254]\n",
      " [46.562077]\n",
      " [47.185818]\n",
      " [48.55441 ]\n",
      " [48.40339 ]\n",
      " [47.826336]\n",
      " [47.07047 ]\n",
      " [46.265453]\n",
      " [46.201447]\n",
      " [46.298347]\n",
      " [45.83376 ]\n",
      " [45.67072 ]\n",
      " [45.30929 ]\n",
      " [45.52171 ]\n",
      " [46.09873 ]\n",
      " [46.44995 ]\n",
      " [45.91553 ]\n",
      " [45.108994]\n",
      " [44.30238 ]\n",
      " [43.27009 ]\n",
      " [42.865185]\n",
      " [42.36617 ]\n",
      " [41.879665]\n",
      " [41.44659 ]\n",
      " [40.47653 ]\n",
      " [40.025215]\n",
      " [39.25793 ]\n",
      " [38.32838 ]\n",
      " [38.222515]\n",
      " [38.86813 ]\n",
      " [38.268948]\n",
      " [37.83016 ]\n",
      " [37.50464 ]\n",
      " [37.14319 ]\n",
      " [35.646313]\n",
      " [33.615337]\n",
      " [35.246197]\n",
      " [35.50272 ]\n",
      " [34.696774]\n",
      " [35.201508]\n",
      " [34.624294]\n",
      " [33.72855 ]\n",
      " [33.949253]\n",
      " [34.15119 ]\n",
      " [34.543385]\n",
      " [33.773838]\n",
      " [33.217518]\n",
      " [33.4789  ]\n",
      " [35.1777  ]\n",
      " [36.13181 ]\n",
      " [34.34113 ]\n",
      " [34.63747 ]\n",
      " [34.944714]\n",
      " [34.257732]\n",
      " [35.400032]\n",
      " [39.302628]\n",
      " [38.08462 ]\n",
      " [37.898914]\n",
      " [36.94516 ]\n",
      " [37.173176]\n",
      " [37.454735]\n",
      " [39.898064]\n",
      " [39.763622]\n",
      " [41.65098 ]\n",
      " [40.122425]\n",
      " [39.169357]\n",
      " [37.714207]\n",
      " [37.216602]\n",
      " [37.20026 ]\n",
      " [36.79506 ]\n",
      " [36.04303 ]\n",
      " [35.878235]\n",
      " [36.123188]\n",
      " [35.903725]\n",
      " [36.08782 ]\n",
      " [36.088047]\n",
      " [35.477047]\n",
      " [38.20873 ]\n",
      " [43.969597]\n",
      " [42.155098]\n",
      " [41.66721 ]\n",
      " [44.106926]\n",
      " [43.443943]\n",
      " [42.270275]\n",
      " [42.25927 ]\n",
      " [41.638035]\n",
      " [40.83414 ]\n",
      " [40.483097]\n",
      " [39.950233]\n",
      " [39.53138 ]\n",
      " [38.8995  ]\n",
      " [39.25153 ]\n",
      " [39.82916 ]\n",
      " [40.00658 ]\n",
      " [40.617126]\n",
      " [40.888412]\n",
      " [40.7382  ]\n",
      " [42.01104 ]\n",
      " [42.57702 ]\n",
      " [42.643894]\n",
      " [42.804836]\n",
      " [42.75797 ]\n",
      " [42.407574]\n",
      " [42.230103]\n",
      " [42.362766]\n",
      " [42.41316 ]\n",
      " [42.529903]\n",
      " [42.662907]\n",
      " [43.76114 ]\n",
      " [45.04611 ]\n",
      " [45.40047 ]\n",
      " [45.771633]\n",
      " [45.9667  ]\n",
      " [46.406498]\n",
      " [46.211254]\n",
      " [46.028778]\n",
      " [46.394527]\n",
      " [46.185795]\n",
      " [45.875473]\n",
      " [46.032925]\n",
      " [46.34524 ]\n",
      " [46.31674 ]\n",
      " [45.994236]\n",
      " [45.63506 ]\n",
      " [45.83722 ]\n",
      " [45.378277]\n",
      " [44.022118]\n",
      " [43.378227]\n",
      " [44.111088]\n",
      " [42.69795 ]\n",
      " [41.984028]\n",
      " [41.75256 ]\n",
      " [41.868626]\n",
      " [41.703487]\n",
      " [42.32581 ]\n",
      " [42.93981 ]\n",
      " [43.04763 ]\n",
      " [43.21958 ]\n",
      " [43.34928 ]\n",
      " [43.398174]\n",
      " [43.911   ]\n",
      " [44.138443]\n",
      " [44.387836]\n",
      " [44.444935]\n",
      " [44.288284]\n",
      " [45.237362]\n",
      " [45.442207]\n",
      " [45.860336]\n",
      " [46.030285]\n",
      " [46.577564]\n",
      " [46.58537 ]\n",
      " [45.94918 ]\n",
      " [45.91332 ]\n",
      " [45.766937]\n",
      " [44.63855 ]\n",
      " [45.06879 ]\n",
      " [45.439075]\n",
      " [45.404877]\n",
      " [44.345676]\n",
      " [43.12917 ]\n",
      " [42.424744]\n",
      " [42.76839 ]\n",
      " [42.71058 ]\n",
      " [42.90785 ]\n",
      " [42.70417 ]\n",
      " [42.176483]\n",
      " [41.928955]\n",
      " [41.86771 ]\n",
      " [42.000305]\n",
      " [42.172108]\n",
      " [42.122738]\n",
      " [42.475475]\n",
      " [43.384594]]\n"
     ]
    }
   ],
   "source": [
    "best_model.evaluate(X_test,y_test)\n",
    "pre = best_model.predict(X_test)\n",
    "print(pre)"
   ]
  },
  {
   "cell_type": "code",
   "execution_count": 20,
   "id": "5dd252bb",
   "metadata": {},
   "outputs": [
    {
     "name": "stdout",
     "output_type": "stream",
     "text": [
      "8/8 [==============================] - 0s 3ms/step - loss: 7.8819 - mape: 8.2460\n"
     ]
    },
    {
     "data": {
      "text/plain": [
       "[7.881932258605957, 8.245952606201172]"
      ]
     },
     "execution_count": 20,
     "metadata": {},
     "output_type": "execute_result"
    }
   ],
   "source": [
    "model.evaluate(X_test,y_test)"
   ]
  },
  {
   "cell_type": "code",
   "execution_count": 21,
   "id": "9602ac21",
   "metadata": {},
   "outputs": [
    {
     "name": "stdout",
     "output_type": "stream",
     "text": [
      "Index(['2019-01-23', '2019-01-24', '2019-01-25', '2019-01-28', '2019-01-29',\n",
      "       '2019-01-30', '2019-01-31', '2019-02-01', '2019-02-11', '2019-02-12',\n",
      "       ...\n",
      "       '2019-12-18', '2019-12-19', '2019-12-20', '2019-12-23', '2019-12-24',\n",
      "       '2019-12-25', '2019-12-26', '2019-12-27', '2019-12-30', '2019-12-31'],\n",
      "      dtype='object', name='date', length=227)\n"
     ]
    },
    {
     "data": {
      "image/png": "[encoded data removed]",
      "text/plain": [
       "<Figure size 1600x800 with 1 Axes>"
      ]
     },
     "metadata": {},
     "output_type": "display_data"
    }
   ],
   "source": [
    "import matplotlib.pyplot as plt\n",
    "\n",
    "df_time = df.index[-len(y_test):]\n",
    "print(df_time)\n",
    "plt.figure(figsize=(16,8))\n",
    "plt.xticks(rotation='vertical')\n",
    "plt.plot(df_time,y_test,color='red',label='price')\n",
    "plt.plot(df_time,pre,color='green',label='price')\n",
    "plt.show()"
   ]
  }
 ],
 "metadata": {
  "kernelspec": {
   "display_name": "Python 3 (ipykernel)",
   "language": "python",
   "name": "python3"
  },
  "language_info": {
   "codemirror_mode": {
    "name": "ipython",
    "version": 3
   },
   "file_extension": ".py",
   "mimetype": "text/x-python",
   "name": "python",
   "nbconvert_exporter": "python",
   "pygments_lexer": "ipython3",
   "version": "3.9.12"
  },
  "toc": {
   "base_numbering": 1,
   "nav_menu": {},
   "number_sections": true,
   "sideBar": true,
   "skip_h1_title": false,
   "title_cell": "Table of Contents",
   "title_sidebar": "Contents",
   "toc_cell": false,
   "toc_position": {},
   "toc_section_display": true,
   "toc_window_display": false
  }
 },
 "nbformat": 4,
 "nbformat_minor": 5
}