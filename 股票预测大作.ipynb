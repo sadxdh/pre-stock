{
 "cells": [
  {
   "cell_type": "markdown",
   "id": "8ff41c02",
   "metadata": {},
   "source": [
    "# 一、准备环境:\n",
    "在Notebook中导入需要的库,如akshare、pandas、numpy等。"
   ]
  },
  {
   "cell_type": "code",
   "execution_count": 4,
   "id": "9c242ebd",
   "metadata": {},
   "outputs": [],
   "source": [
    "# pip install akshare"
   ]
  },
  {
   "cell_type": "markdown",
   "id": "4b01a601",
   "metadata": {},
   "source": [
    "# 二、获取数据:\n",
    "根据需求编写代码,利用akshare获取指定股票的上述字段信息,储存在DataFrame中。"
   ]
  },
  {
   "cell_type": "code",
   "execution_count": 7,
   "id": "92ba667b",
   "metadata": {},
   "outputs": [
    {
     "ename": "FileNotFoundError",
     "evalue": "[Errno 2] No such file or directory: 'target'",
     "output_type": "error",
     "traceback": [
      "\u001b[1;31m---------------------------------------------------------------------------\u001b[0m",
      "\u001b[1;31mFileNotFoundError\u001b[0m                         Traceback (most recent call last)",
      "\u001b[1;32m~\\AppData\\Local\\Temp\\ipykernel_17216\\1884457376.py\u001b[0m in \u001b[0;36m<module>\u001b[1;34m\u001b[0m\n\u001b[0;32m     60\u001b[0m \u001b[1;32mif\u001b[0m \u001b[0m__name__\u001b[0m \u001b[1;33m==\u001b[0m \u001b[1;34m'__main__'\u001b[0m\u001b[1;33m:\u001b[0m\u001b[1;33m\u001b[0m\u001b[1;33m\u001b[0m\u001b[0m\n\u001b[0;32m     61\u001b[0m     \u001b[0mstart_time\u001b[0m \u001b[1;33m=\u001b[0m \u001b[1;34m'2005-05-05'\u001b[0m\u001b[1;33m\u001b[0m\u001b[1;33m\u001b[0m\u001b[0m\n\u001b[1;32m---> 62\u001b[1;33m     \u001b[0mmain\u001b[0m\u001b[1;33m(\u001b[0m\u001b[0mstart_time\u001b[0m\u001b[1;33m)\u001b[0m\u001b[1;33m\u001b[0m\u001b[1;33m\u001b[0m\u001b[0m\n\u001b[0m",
      "\u001b[1;32m~\\AppData\\Local\\Temp\\ipykernel_17216\\1884457376.py\u001b[0m in \u001b[0;36mmain\u001b[1;34m(start_time)\u001b[0m\n\u001b[0;32m     46\u001b[0m \u001b[1;33m\u001b[0m\u001b[0m\n\u001b[0;32m     47\u001b[0m \u001b[1;32mdef\u001b[0m \u001b[0mmain\u001b[0m\u001b[1;33m(\u001b[0m\u001b[0mstart_time\u001b[0m\u001b[1;33m)\u001b[0m\u001b[1;33m:\u001b[0m\u001b[1;33m\u001b[0m\u001b[1;33m\u001b[0m\u001b[0m\n\u001b[1;32m---> 48\u001b[1;33m     \u001b[0mf\u001b[0m \u001b[1;33m=\u001b[0m \u001b[0mopen\u001b[0m\u001b[1;33m(\u001b[0m\u001b[1;34m'target'\u001b[0m\u001b[1;33m,\u001b[0m\u001b[1;34m'r'\u001b[0m\u001b[1;33m,\u001b[0m\u001b[0mencoding\u001b[0m\u001b[1;33m=\u001b[0m\u001b[1;34m'utf-8'\u001b[0m\u001b[1;33m)\u001b[0m\u001b[1;33m\u001b[0m\u001b[1;33m\u001b[0m\u001b[0m\n\u001b[0m\u001b[0;32m     49\u001b[0m     \u001b[0mstock_name\u001b[0m \u001b[1;33m=\u001b[0m \u001b[0mf\u001b[0m\u001b[1;33m.\u001b[0m\u001b[0mread\u001b[0m\u001b[1;33m(\u001b[0m\u001b[1;33m)\u001b[0m\u001b[1;33m.\u001b[0m\u001b[0msplit\u001b[0m\u001b[1;33m(\u001b[0m\u001b[1;34m'\\n'\u001b[0m\u001b[1;33m)\u001b[0m\u001b[1;33m\u001b[0m\u001b[1;33m\u001b[0m\u001b[0m\n\u001b[0;32m     50\u001b[0m     \u001b[0mprint\u001b[0m\u001b[1;33m(\u001b[0m\u001b[0mstock_name\u001b[0m\u001b[1;33m)\u001b[0m\u001b[1;33m\u001b[0m\u001b[1;33m\u001b[0m\u001b[0m\n",
      "\u001b[1;31mFileNotFoundError\u001b[0m: [Errno 2] No such file or directory: 'target'"
     ]
    }
   ],
   "source": []
  },
  {
   "cell_type": "code",
   "execution_count": 6,
   "id": "312938ec",
   "metadata": {},
   "outputs": [
    {
     "name": "stdout",
     "output_type": "stream",
     "text": [
      "      项目         股票         主板       科创板\n",
      "0   流通股本   44558.06   43515.87   1042.19\n",
      "1    总市值  492502.79  429994.22  62508.57\n",
      "2  平均市盈率      12.71      11.67     36.62\n",
      "3   上市公司       2236       1684       552\n",
      "4   上市股票       2275       1723       552\n",
      "5   流通市值  437641.11  403036.96  34604.15\n",
      "6   报告时间   20230811   20230811  20230811\n",
      "8    总股本    48780.6   46716.37   2064.23\n"
     ]
    }
   ],
   "source": [
    "import akshare as ak\n",
    "\n",
    "stock_sse_summary_df = ak.stock_sse_summary()\n",
    "print(stock_sse_summary_df)"
   ]
  },
  {
   "cell_type": "markdown",
   "id": "be076010",
   "metadata": {},
   "source": [
    "# 三、数据检查:\n",
    "检查是否有空值,查看每列的数据类型是否正确。"
   ]
  },
  {
   "cell_type": "markdown",
   "id": "b931cdda",
   "metadata": {},
   "source": [
    "# 四、补充数据:\n",
    "如果某些字段数据不全,可以调用其他API补充,如财务数据等。"
   ]
  },
  {
   "cell_type": "markdown",
   "id": "ffdbd13d",
   "metadata": {},
   "source": [
    "# 五、数据处理:\n",
    "处理空值,修改错误数据类型,新增计算所需字段等。"
   ]
  },
  {
   "cell_type": "markdown",
   "id": "7a6f1a83",
   "metadata": {},
   "source": [
    "# 六、分析可视化:\n",
    "使用pandas、matplotlib等模块进行数据分析,如描述统计、走势图等。"
   ]
  },
  {
   "cell_type": "markdown",
   "id": "cf1c552c",
   "metadata": {},
   "source": [
    "# 七、模型预测:\n",
    "利用sklearn等机器学习库建立模型,进行股票预测。"
   ]
  },
  {
   "cell_type": "markdown",
   "id": "c3e27b00",
   "metadata": {},
   "source": [
    "# 八、构建Dashboard:\n",
    "使用Notebook的交互功能,构建可交互的股票数据面板。"
   ]
  },
  {
   "cell_type": "markdown",
   "id": "d2ecadad",
   "metadata": {},
   "source": [
    "# 九、生成报告:\n",
    "输出分析结果,综合生成报告文档。"
   ]
  },
  {
   "cell_type": "markdown",
   "id": "5ac6b413",
   "metadata": {},
   "source": [
    "# 十、参数控制:\n",
    "设定函数及Notebook参数,实现快速改变股票和日期范围。"
   ]
  },
  {
   "cell_type": "code",
   "execution_count": null,
   "id": "72d19bf7",
   "metadata": {},
   "outputs": [],
   "source": []
  }
 ],
 "metadata": {
  "kernelspec": {
   "display_name": "Python 3 (ipykernel)",
   "language": "python",
   "name": "python3"
  },
  "language_info": {
   "codemirror_mode": {
    "name": "ipython",
    "version": 3
   },
   "file_extension": ".py",
   "mimetype": "text/x-python",
   "name": "python",
   "nbconvert_exporter": "python",
   "pygments_lexer": "ipython3",
   "version": "3.9.13"
  }
 },
 "nbformat": 4,
 "nbformat_minor": 5
}
